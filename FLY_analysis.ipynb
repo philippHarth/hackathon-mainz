{
 "cells": [
  {
   "cell_type": "code",
   "execution_count": null,
   "metadata": {},
   "outputs": [],
   "source": [
    "import numpy as np\n",
    "import pickle\n",
    "from pathlib import Path\n",
    "\n",
    "from IPython.display import display\n",
    "from lib.util_plot import *\n",
    "from lib.constants import *\n",
    "from lib.multilevel_analysis import *\n",
    "from lib.pandas_impl import *\n",
    "from lib.pandas_stats_VIS import *\n",
    "from lib.matrix_analyzer import *\n",
    "from lib.pandas_compute import *\n",
    "\n",
    "import lib.FLY_preprocessing.fly_constants as FLY"
   ]
  },
  {
   "cell_type": "markdown",
   "metadata": {},
   "source": [
    "### Data preparation"
   ]
  },
  {
   "cell_type": "code",
   "execution_count": null,
   "metadata": {},
   "outputs": [],
   "source": [
    "data_folder = Path.cwd() / 'data' / 'FLY'\n",
    "meta_folder = data_folder / 'meta'\n",
    "eval_folder = Path.cwd() / 'data' / 'eval' / 'FLY_25-03-12'\n",
    "eval_folder.mkdir(parents=True, exist_ok=True)\n",
    "plot_folder = eval_folder / \"plots\"\n",
    "plot_folder.mkdir(parents=True, exist_ok=True)"
   ]
  },
  {
   "cell_type": "code",
   "execution_count": null,
   "metadata": {},
   "outputs": [],
   "source": [
    "filename = eval_folder / \"multilevel_analysis.pkl\"\n",
    "with open(filename, 'rb') as file:\n",
    "    multilevel_analysis = pickle.load(file)\n",
    "\n",
    "stats = multilevel_analysis.stats\n",
    "df_summary = multilevel_analysis.df_summary"
   ]
  },
  {
   "cell_type": "code",
   "execution_count": null,
   "metadata": {},
   "outputs": [],
   "source": [
    "pre_ids = set(df_summary.index.get_level_values(\"pre_id_mapped\"))\n",
    "post_ids = set(df_summary.index.get_level_values(\"post_id_mapped\"))\n",
    "all_ids = pre_ids.union(post_ids)\n",
    "all_ids.remove(-1)   \n",
    "no_presynaptic = all_ids - pre_ids\n",
    "\n",
    "neuron_domain_pre = get_neuron_to_neuron_domain(df_summary, \"pre_celltype\", \"post_celltype\", \\\n",
    "                                                 celltype_order=None, ignored_neuron_ids=[-1])\n",
    "neuron_domain_post = get_neuron_to_neuron_domain(df_summary, \"pre_celltype\", \"post_celltype\", \\\n",
    "                                                  celltype_order=None, ignored_neuron_ids=[-1])"
   ]
  },
  {
   "cell_type": "code",
   "execution_count": null,
   "metadata": {},
   "outputs": [],
   "source": [
    "initPlotSettings(False)"
   ]
  },
  {
   "cell_type": "code",
   "execution_count": null,
   "metadata": {},
   "outputs": [],
   "source": [
    "df_summary[(df_summary.index.get_level_values(\"pre_id_mapped\") > -1) & (df_summary.index.get_level_values(\"post_id_mapped\") > -1) & (df_summary[EMPIRICAL] > 0)]"
   ]
  },
  {
   "cell_type": "code",
   "execution_count": null,
   "metadata": {},
   "outputs": [],
   "source": [
    "row_markers = {\n",
    "    \"pre_id_mapped\" : [1]\n",
    "}\n",
    "col_markers = {\n",
    "    \"post_id_mapped\" : [0]\n",
    "}"
   ]
  },
  {
   "cell_type": "markdown",
   "metadata": {},
   "source": [
    "### Overlapping/connected matrix"
   ]
  },
  {
   "cell_type": "code",
   "execution_count": null,
   "metadata": {},
   "outputs": [],
   "source": [
    "matrix_analyzer = ConnectomeMatrixAnalyzer(df_summary, plot_folder)\n",
    "matrix_analyzer.set_selection()\n",
    "matrix_analyzer.set_data_columns(EMPIRICAL)\n",
    "matrix_analyzer.build_matrix([\"pre_celltype\", \"pre_id_mapped\"], \n",
    "                             [\"post_celltype\", \"post_id_mapped\"],    \n",
    "                             row_domains = neuron_domain_pre,  \n",
    "                             col_domains = neuron_domain_post,\n",
    "                             value_label_map = {},\n",
    "                             aggregation_fn=\"sum\",\n",
    "                             default_value=-1)\n",
    "matrix_analyzer.colormaps[\"binary\"].set_under(\"white\")\n",
    "matrix_analyzer.render_matrix(\"FLY-overlapping-connected\", \n",
    "                              colormap_name=\"binary\", vmin=-1, vmax=1, normalization_function=None, \n",
    "                              row_markers=row_markers, col_markers=col_markers,\n",
    "                              col_separator_lines=True, row_separator_lines=True, high_res=False)"
   ]
  },
  {
   "cell_type": "markdown",
   "metadata": {},
   "source": [
    "### Specificity parameters matrix"
   ]
  },
  {
   "cell_type": "code",
   "execution_count": null,
   "metadata": {},
   "outputs": [],
   "source": [
    "matrix_analyzer = ConnectomeMatrixAnalyzer(df_summary, plot_folder)\n",
    "matrix_analyzer.set_selection(exclude_filter={})\n",
    "matrix_analyzer.set_data_columns(\"model-C_preference\")\n",
    "matrix_analyzer.build_matrix([\"pre_celltype\", \"pre_id_mapped\"], \n",
    "                             [\"post_celltype\", \"post_id_mapped\"],    \n",
    "                             row_domains = neuron_domain_pre,  \n",
    "                             col_domains = neuron_domain_post,\n",
    "                             value_label_map = {},\n",
    "                             aggregation_fn=\"mean\",\n",
    "                             default_value=1)\n",
    "matrix_analyzer.render_matrix(\"FLY-model-C-preference\", \n",
    "                              colormap_name=\"coolwarm\", vmin=-1, vmax=1, normalization_function=NormalizePreferenceValue(0, 8),\n",
    "                              col_separator_lines=True, row_separator_lines=True, high_res=False)"
   ]
  }
 ],
 "metadata": {
  "kernelspec": {
   "display_name": "Python 3",
   "language": "python",
   "name": "python3"
  },
  "language_info": {
   "codemirror_mode": {
    "name": "ipython",
    "version": 3
   },
   "file_extension": ".py",
   "mimetype": "text/x-python",
   "name": "python",
   "nbconvert_exporter": "python",
   "pygments_lexer": "ipython3",
   "version": "3.11.11"
  }
 },
 "nbformat": 4,
 "nbformat_minor": 2
}
