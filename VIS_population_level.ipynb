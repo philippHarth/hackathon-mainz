{
 "cells": [
  {
   "cell_type": "code",
   "execution_count": null,
   "metadata": {},
   "outputs": [],
   "source": [
    "import pandas as pd\n",
    "import numpy as np\n",
    "import pickle\n",
    "from pathlib import Path\n",
    "from matplotlib.colors import SymLogNorm\n",
    "\n",
    "from IPython.display import display\n",
    "from lib.util_plot import *\n",
    "from lib.constants import *\n",
    "from lib.multilevel_analysis import *\n",
    "from lib.pandas_impl import *\n",
    "from lib.pandas_stats_VIS import *\n",
    "from lib.matrix_analyzer import *\n",
    "from lib.pandas_compute import *\n",
    "\n",
    "import lib.VIS_L23_preprocessing.vis_L23_constants as VIS"
   ]
  },
  {
   "cell_type": "markdown",
   "metadata": {},
   "source": [
    "### Data preparation"
   ]
  },
  {
   "cell_type": "code",
   "execution_count": null,
   "metadata": {},
   "outputs": [],
   "source": [
    "data_folder = Path.cwd() / 'data' / 'VIS'\n",
    "eval_folder = Path.cwd() / 'data' / 'eval' / 'VIS_24-09-13_5mu'\n",
    "eval_folder.mkdir(parents=True, exist_ok=True)\n",
    "plot_folder = eval_folder / \"plots\"\n",
    "plot_folder.mkdir(parents=True, exist_ok=True)"
   ]
  },
  {
   "cell_type": "code",
   "execution_count": null,
   "metadata": {},
   "outputs": [],
   "source": [
    "filename = eval_folder / \"multilevel_analysis.pkl\"\n",
    "with open(filename, 'rb') as file:\n",
    "    multilevel_analysis = pickle.load(file)\n",
    "\n",
    "stats = multilevel_analysis.stats\n",
    "df_summary = multilevel_analysis.df_summary"
   ]
  },
  {
   "cell_type": "code",
   "execution_count": null,
   "metadata": {},
   "outputs": [],
   "source": [
    "pre_ids = set(df_summary.index.get_level_values(\"pre_id_mapped\"))\n",
    "post_ids = set(df_summary.index.get_level_values(\"post_id_mapped\"))\n",
    "all_ids = pre_ids.union(post_ids)\n",
    "all_ids.remove(-1)   \n",
    "no_presynaptic = all_ids - pre_ids\n",
    "\n",
    "neuron_domain_pre = get_neuron_to_neuron_domain(df_summary, \"pre_celltype_merged\", \"post_celltype_merged\", \\\n",
    "                                                 celltype_order=[-1, 1, 2], ignored_neuron_ids=no_presynaptic)\n",
    "neuron_domain_post = get_neuron_to_neuron_domain(df_summary, \"pre_celltype_merged\", \"post_celltype_merged\", \\\n",
    "                                                  celltype_order=[-1, 1, 2], ignored_neuron_ids=no_presynaptic)"
   ]
  },
  {
   "cell_type": "code",
   "execution_count": null,
   "metadata": {},
   "outputs": [],
   "source": [
    "initPlotSettings(False)\n",
    "\n",
    "COLORS_CATEGORICAL_MUTED = sns.color_palette(\"muted\") \n",
    "COLORS_CATEGORICAL_DARK = sns.color_palette(\"dark\") \n",
    "COLORS_CATEGORICAL_COLORBLIND = sns.color_palette(\"colorblind\") \n",
    "COLORS_CATEGORICAL_BRIGHT = sns.color_palette(\"bright\") \n",
    "COLORS_CATEGORICAL_PASTEL = sns.color_palette(\"pastel\") \n",
    "\n",
    "C_EMPIRICAL = COLORS_CATEGORICAL[2]\n",
    "C_H0 = COLOR_EMPIRICAL\n",
    "C_M1 = COLORS_CATEGORICAL_MUTED[7]\n",
    "C_M2 = COLORS_CATEGORICAL_BRIGHT[7]\n",
    "C_M3 = COLORS_CATEGORICAL_PASTEL[7]"
   ]
  },
  {
   "cell_type": "markdown",
   "metadata": {},
   "source": [
    "## Synpapse counts"
   ]
  },
  {
   "cell_type": "markdown",
   "metadata": {},
   "source": [
    "### E/I"
   ]
  },
  {
   "cell_type": "code",
   "execution_count": null,
   "metadata": {},
   "outputs": [],
   "source": [
    "datasets = [stats.to_numpy(SELECTION_CELLTYPE, EMPIRICAL), \n",
    "            stats.to_numpy(SELECTION_CELLTYPE, MODEL_NULL),\n",
    "            stats.to_numpy(SELECTION_CELLTYPE, MODEL_P)]\n",
    "\n",
    "img = plot_bar_chart(datasets,\n",
    "                     #dataset_labels = [STR_EMPIRICAL, STR_NULL, STR_P], \n",
    "                     colors=[C_EMPIRICAL, C_H0, C_M1],\n",
    "                     x_labels=SELECTION_CELLTYPE,\n",
    "                     y_lim=(10, 10**4), use_log=True, error_bars=True,\n",
    "                     adjust_left=0.2, fig_size=figsize_mm_to_inch(50,40), \n",
    "                     filename=plot_folder/f\"VIS_{SYNCOUNT_POPULATION}.png\")\n",
    "display(img)"
   ]
  },
  {
   "cell_type": "code",
   "execution_count": null,
   "metadata": {},
   "outputs": [],
   "source": [
    "datasets = [stats.to_numpy(SELECTION_CELLTYPE[0:2], EMPIRICAL),\n",
    "            stats.to_numpy(SELECTION_CELLTYPE[0:2], MODEL_NULL)]\n",
    "\n",
    "img = plot_bar_chart(datasets,\n",
    "                     colors=[C_EMPIRICAL, C_H0],\n",
    "                     x_labels=SELECTION_CELLTYPE[0:2],\n",
    "                     y_lim=(1, 10**4), use_log=True, error_bars=True,\n",
    "                     adjust_left=0.35, fig_size=figsize_mm_to_inch(30,40), \n",
    "                     filename=plot_folder/f\"VIS_{SYNCOUNT_POPULATION}_EXC_model_null.png\")\n",
    "display(img)"
   ]
  },
  {
   "cell_type": "code",
   "execution_count": null,
   "metadata": {},
   "outputs": [],
   "source": [
    "datasets = [stats.to_numpy(SELECTION_CELLTYPE[0:2], EMPIRICAL),\n",
    "            stats.to_numpy(SELECTION_CELLTYPE[0:2], MODEL_P)]\n",
    "\n",
    "img = plot_bar_chart(datasets,\n",
    "                     #dataset_labels = [STR_EMPIRICAL, STR_NULL, STR_P], \n",
    "                     colors=[C_EMPIRICAL, C_M1],\n",
    "                     x_labels=SELECTION_CELLTYPE[0:2],\n",
    "                     y_lim=(1, 10**4), use_log=True, error_bars=True,\n",
    "                     adjust_left=0.35, fig_size=figsize_mm_to_inch(30,40), \n",
    "                     filename=plot_folder/f\"VIS_{SYNCOUNT_POPULATION}_EXC_model_specificity.png\")\n",
    "display(img)"
   ]
  },
  {
   "cell_type": "code",
   "execution_count": null,
   "metadata": {},
   "outputs": [],
   "source": [
    "datasets = [stats.to_numpy(SELECTION_CELLTYPE[2:], EMPIRICAL),\n",
    "            stats.to_numpy(SELECTION_CELLTYPE[2:], MODEL_NULL)]\n",
    "\n",
    "img = plot_bar_chart(datasets,\n",
    "                     #dataset_labels = [STR_EMPIRICAL, STR_NULL, STR_P], \n",
    "                     colors=[C_EMPIRICAL, C_H0],\n",
    "                     x_labels=SELECTION_CELLTYPE[2:],\n",
    "                     y_lim=(1, 10**4), use_log=True, error_bars=True,\n",
    "                     adjust_left=0.35, fig_size=figsize_mm_to_inch(30,40), \n",
    "                     filename=plot_folder/f\"VIS_{SYNCOUNT_POPULATION}_INH_model_null.png\")\n",
    "display(img)"
   ]
  },
  {
   "cell_type": "code",
   "execution_count": null,
   "metadata": {},
   "outputs": [],
   "source": [
    "datasets = [stats.to_numpy(SELECTION_CELLTYPE[2:], EMPIRICAL),\n",
    "            stats.to_numpy(SELECTION_CELLTYPE[2:], MODEL_P)]\n",
    "\n",
    "img = plot_bar_chart(datasets,\n",
    "                     #dataset_labels = [STR_EMPIRICAL, STR_NULL, STR_P], \n",
    "                     colors=[C_EMPIRICAL, C_M1],\n",
    "                     x_labels=SELECTION_CELLTYPE[2:],\n",
    "                     y_lim=(1, 10**4), use_log=True, error_bars=True,\n",
    "                     adjust_left=0.35, fig_size=figsize_mm_to_inch(30,40), \n",
    "                     filename=plot_folder/f\"VIS_{SYNCOUNT_POPULATION}_INH_model_specificity.png\")\n",
    "display(img)"
   ]
  },
  {
   "cell_type": "markdown",
   "metadata": {},
   "source": [
    "### E/I/U"
   ]
  },
  {
   "cell_type": "code",
   "execution_count": null,
   "metadata": {},
   "outputs": [],
   "source": [
    "datasets = [stats.to_numpy(SELECTION_CELLTYPE_VIS_ALL, EMPIRICAL), \n",
    "            stats.to_numpy(SELECTION_CELLTYPE_VIS_ALL, MODEL_NULL),\n",
    "            stats.to_numpy(SELECTION_CELLTYPE_VIS_ALL, MODEL_P)]\n",
    "\n",
    "img = plot_bar_chart(datasets,\n",
    "                     dataset_labels = [STR_EMPIRICAL, STR_NULL, STR_P], \n",
    "                     colors=[C_EMPIRICAL, C_H0, C_M1],\n",
    "                     x_labels=SELECTION_CELLTYPE_VIS_ALL,\n",
    "                     y_lim=(10, 10**8), use_log=True, error_bars=True,\n",
    "                     adjust_left=0.08, fig_size=figsize_mm_to_inch(130,50), \n",
    "                     filename=plot_folder/f\"VIS_{SYNCOUNT_POPULATION}_all.png\")\n",
    "display(img)"
   ]
  },
  {
   "cell_type": "markdown",
   "metadata": {},
   "source": [
    "### E/I/U specificity"
   ]
  },
  {
   "cell_type": "code",
   "execution_count": null,
   "metadata": {},
   "outputs": [],
   "source": [
    "matrix_analyzer = ConnectomeMatrixAnalyzer(df_summary, plot_folder)\n",
    "matrix_analyzer.set_selection(exclude_filter={})\n",
    "matrix_analyzer.set_data_columns(\"model-P_preference\")\n",
    "matrix_analyzer.build_matrix([\"pre_celltype_merged\"], \n",
    "                             [\"post_celltype_merged\"],    \n",
    "                             row_domains = VIS.EXC_INH_UNKNOWN[0:2],  \n",
    "                             col_domains = VIS.EXC_INH_UNKNOWN[0:2],\n",
    "                             value_label_map = {\n",
    "                                 \"pre_celltype_merged\" : VIS.CELLTYPE_LABELS,\n",
    "                                 \"post_celltype_merged\" : VIS.CELLTYPE_LABELS,\n",
    "                             },\n",
    "                             aggregation_fn=\"mean\",\n",
    "                             default_value=1)\n",
    "matrix_analyzer.render_matrix(\"VIS-model-P-preference\", \n",
    "                              colormap_name=\"coolwarm\", vmin=-1, vmax=1, normalization_function=NormalizePreferenceValue(0, 8),\n",
    "                              col_separator_lines=True, row_separator_lines=True, high_res=False)"
   ]
  },
  {
   "cell_type": "code",
   "execution_count": null,
   "metadata": {},
   "outputs": [],
   "source": [
    "matrix_analyzer.matrix"
   ]
  },
  {
   "cell_type": "code",
   "execution_count": null,
   "metadata": {},
   "outputs": [],
   "source": [
    "VIS.EXC_INH_UNKNOWN"
   ]
  },
  {
   "cell_type": "code",
   "execution_count": null,
   "metadata": {},
   "outputs": [],
   "source": [
    "df_foo = df_summary.copy().reset_index()\n",
    "spec_values = df_foo[(df_foo.pre_celltype_merged == VIS.EXC_INH_UNKNOWN[0]) & (df_foo.post_celltype_merged == VIS.EXC_INH_UNKNOWN[1])][\"model-P_preference\"].values"
   ]
  },
  {
   "cell_type": "code",
   "execution_count": null,
   "metadata": {},
   "outputs": [],
   "source": [
    "np.mean(spec_values)"
   ]
  },
  {
   "cell_type": "code",
   "execution_count": null,
   "metadata": {},
   "outputs": [],
   "source": [
    "matrix_analyzer = ConnectomeMatrixAnalyzer(df_summary, plot_folder)\n",
    "matrix_analyzer.set_selection(exclude_filter={})\n",
    "matrix_analyzer.set_data_columns(\"model-P_preference\")\n",
    "matrix_analyzer.build_matrix([\"pre_celltype_merged\"], \n",
    "                             [\"post_celltype_merged\"],    \n",
    "                             row_domains = VIS.EXC_INH_UNKNOWN,  \n",
    "                             col_domains = VIS.EXC_INH_UNKNOWN,\n",
    "                             value_label_map = {\n",
    "                                 \"pre_celltype_merged\" : VIS.CELLTYPE_LABELS,\n",
    "                                 \"post_celltype_merged\" : VIS.CELLTYPE_LABELS,\n",
    "                             },\n",
    "                             aggregation_fn=\"mean\",\n",
    "                             default_value=1)\n",
    "matrix_analyzer.render_matrix(\"VIS-model-P-preference_all\", \n",
    "                              colormap_name=\"coolwarm\", vmin=-1, vmax=1, normalization_function=NormalizePreferenceValue(0, 8),\n",
    "                              col_separator_lines=True, row_separator_lines=True, high_res=False)"
   ]
  },
  {
   "cell_type": "markdown",
   "metadata": {},
   "source": [
    "### E/I by compartment"
   ]
  },
  {
   "cell_type": "code",
   "execution_count": null,
   "metadata": {},
   "outputs": [],
   "source": [
    "datasets = [stats.to_numpy(SELECTION_EXC_SUBCELLULAR, EMPIRICAL), \n",
    "            stats.to_numpy(SELECTION_EXC_SUBCELLULAR, MODEL_NULL),\n",
    "            stats.to_numpy(SELECTION_EXC_SUBCELLULAR, MODEL_P),\n",
    "            stats.to_numpy(SELECTION_EXC_SUBCELLULAR, MODEL_PS)]\n",
    "\n",
    "img = plot_bar_chart(datasets,\n",
    "                     dataset_labels = [STR_EMPIRICAL, STR_NULL, STR_P, STR_PS], \n",
    "                     colors=[C_EMPIRICAL, C_H0, C_M1, C_M2],\n",
    "                     x_labels=SELECTION_EXC_SUBCELLULAR,\n",
    "                     y_lim=(1, 10**5), use_log=True, error_bars=True,\n",
    "                     adjust_left=0.2, fig_size=figsize_mm_to_inch(80,50), \n",
    "                     filename=plot_folder/f\"VIS_{SYNCOUNT_EXC_SUBCELLULAR}.png\")\n",
    "display(img)"
   ]
  },
  {
   "cell_type": "code",
   "execution_count": null,
   "metadata": {},
   "outputs": [],
   "source": [
    "datasets = [stats.to_numpy(SELECTION_INH_SUBCELLULAR, EMPIRICAL), \n",
    "            stats.to_numpy(SELECTION_INH_SUBCELLULAR, MODEL_NULL),\n",
    "            stats.to_numpy(SELECTION_INH_SUBCELLULAR, MODEL_P),\n",
    "            stats.to_numpy(SELECTION_INH_SUBCELLULAR, MODEL_PS)]\n",
    "\n",
    "img = plot_bar_chart(datasets,\n",
    "                     dataset_labels = [STR_EMPIRICAL, STR_NULL, STR_P, STR_PS], \n",
    "                     colors=[C_EMPIRICAL, C_H0, C_M1, C_M2],\n",
    "                     x_labels=SELECTION_INH_SUBCELLULAR,\n",
    "                     y_lim=(1, 10**5), use_log=True, error_bars=True,\n",
    "                     adjust_left=0.2, fig_size=figsize_mm_to_inch(80,50), \n",
    "                     filename=plot_folder/f\"VIS_{SYNCOUNT_INH_SUBCELLULAR}.png\")\n",
    "display(img)"
   ]
  },
  {
   "cell_type": "code",
   "execution_count": null,
   "metadata": {},
   "outputs": [],
   "source": [
    "SELECTION_EXC_SUBCELLULAR_3 = SELECTION_EXC_SUBCELLULAR[0:3]\n",
    "\n",
    "datasets = [stats.to_numpy(SELECTION_EXC_SUBCELLULAR_3, EMPIRICAL), \n",
    "            stats.to_numpy(SELECTION_EXC_SUBCELLULAR_3, MODEL_NULL)]\n",
    "\n",
    "img = plot_bar_chart(datasets,\n",
    "                     #dataset_labels = [STR_EMPIRICAL, STR_NULL], \n",
    "                     colors=[C_EMPIRICAL, C_H0],\n",
    "                     x_labels=SELECTION_EXC_SUBCELLULAR_3,\n",
    "                     y_lim=(1, 10**4), use_log=True, error_bars=True,\n",
    "                     adjust_left=0.22, fig_size=figsize_mm_to_inch(45,40), \n",
    "                     filename=plot_folder/f\"VIS_{SYNCOUNT_EXC_SUBCELLULAR}_model_null.png\")\n",
    "display(img)"
   ]
  },
  {
   "cell_type": "code",
   "execution_count": null,
   "metadata": {},
   "outputs": [],
   "source": [
    "SELECTION_EXC_SUBCELLULAR_3 = SELECTION_EXC_SUBCELLULAR[0:3]\n",
    "\n",
    "datasets = [stats.to_numpy(SELECTION_EXC_SUBCELLULAR_3, EMPIRICAL), \n",
    "            stats.to_numpy(SELECTION_EXC_SUBCELLULAR_3, MODEL_P),\n",
    "            stats.to_numpy(SELECTION_EXC_SUBCELLULAR_3, MODEL_PS)]\n",
    "\n",
    "img = plot_bar_chart(datasets,\n",
    "                     #dataset_labels = [STR_EMPIRICAL, STR_NULL], \n",
    "                     colors=[C_EMPIRICAL, C_M1, C_M2],\n",
    "                     x_labels=SELECTION_EXC_SUBCELLULAR_3,\n",
    "                     y_lim=(1, 10**4), use_log=True, error_bars=True,\n",
    "                     adjust_left=0.22, fig_size=figsize_mm_to_inch(45,40), \n",
    "                     filename=plot_folder/f\"VIS_{SYNCOUNT_EXC_SUBCELLULAR}_model_specificity.png\")\n",
    "display(img)"
   ]
  },
  {
   "cell_type": "code",
   "execution_count": null,
   "metadata": {},
   "outputs": [],
   "source": [
    "SELECTION_INH_SUBCELLULAR_3 = SELECTION_INH_SUBCELLULAR[0:3]\n",
    "\n",
    "datasets = [stats.to_numpy(SELECTION_INH_SUBCELLULAR_3, EMPIRICAL), \n",
    "            stats.to_numpy(SELECTION_INH_SUBCELLULAR_3, MODEL_NULL)]\n",
    "\n",
    "img = plot_bar_chart(datasets,\n",
    "                     #dataset_labels = [STR_EMPIRICAL, STR_NULL, STR_P, STR_PS], \n",
    "                     colors=[C_EMPIRICAL, C_H0],\n",
    "                     x_labels=SELECTION_INH_SUBCELLULAR_3,\n",
    "                     y_lim=(1, 10**4), use_log=True, error_bars=True,\n",
    "                     adjust_left=0.22, fig_size=figsize_mm_to_inch(45,40), \n",
    "                     filename=plot_folder/f\"VIS_{SYNCOUNT_INH_SUBCELLULAR}_model_null.png\")\n",
    "display(img)"
   ]
  },
  {
   "cell_type": "code",
   "execution_count": null,
   "metadata": {},
   "outputs": [],
   "source": [
    "SELECTION_INH_SUBCELLULAR_3 = SELECTION_INH_SUBCELLULAR[0:3]\n",
    "\n",
    "datasets = [stats.to_numpy(SELECTION_INH_SUBCELLULAR_3, EMPIRICAL), \n",
    "            stats.to_numpy(SELECTION_INH_SUBCELLULAR_3, MODEL_P),\n",
    "            stats.to_numpy(SELECTION_INH_SUBCELLULAR_3, MODEL_PS)]\n",
    "\n",
    "img = plot_bar_chart(datasets,\n",
    "                     #dataset_labels = [STR_EMPIRICAL, STR_NULL, STR_P, STR_PS], \n",
    "                     colors=[C_EMPIRICAL, C_M1, C_M2],\n",
    "                     x_labels=SELECTION_INH_SUBCELLULAR_3,\n",
    "                     y_lim=(1, 10**4), use_log=True, error_bars=True,\n",
    "                     adjust_left=0.22, fig_size=figsize_mm_to_inch(45,40), \n",
    "                     filename=plot_folder/f\"VIS_{SYNCOUNT_INH_SUBCELLULAR}_model_specificity.png\")\n",
    "display(img)"
   ]
  },
  {
   "cell_type": "markdown",
   "metadata": {},
   "source": [
    "### E/I specificity by compartment"
   ]
  },
  {
   "cell_type": "code",
   "execution_count": null,
   "metadata": {},
   "outputs": [],
   "source": [
    "matrix_analyzer = ConnectomeMatrixAnalyzer(df_summary, plot_folder)\n",
    "matrix_analyzer.set_selection(exclude_filter={})\n",
    "matrix_analyzer.set_data_columns(\"model-PS_preference\")\n",
    "matrix_analyzer.build_matrix([\"pre_celltype_merged\"], \n",
    "                             [\"post_celltype_merged\", \"post_compartment\"], \n",
    "                             row_domains = VIS.EXC_INH_UNKNOWN[0:2],  \n",
    "                             col_domains = [(1, *VIS.SOMA), (1, *VIS.DEND), (1, *VIS.AIS), (2, *VIS.SOMA), (2, *VIS.DEND), (2, *VIS.AIS)], \n",
    "                             value_label_map = {\n",
    "                                 \"pre_celltype_merged\" : VIS.CELLTYPE_LABELS,\n",
    "                                 \"post_celltype_merged\" : VIS.CELLTYPE_LABELS,\n",
    "                                 \"post_compartment\" : VIS.COMPARTMENT_LABELS,\n",
    "                             },\n",
    "                             aggregation_fn=\"mean\",\n",
    "                             default_value=1)\n",
    "matrix_analyzer.render_matrix(\"VIS_model-PS-preference\", \n",
    "                              colormap_name=\"coolwarm\", vmin=-1, vmax=1, normalization_function=NormalizePreferenceValue(0, 8),\n",
    "                              col_separator_lines=True, row_separator_lines=True)"
   ]
  },
  {
   "cell_type": "markdown",
   "metadata": {},
   "source": [
    "## Synapse clusters"
   ]
  },
  {
   "cell_type": "code",
   "execution_count": null,
   "metadata": {},
   "outputs": [],
   "source": [
    "dataset_labels = [STR_EMPIRICAL, STR_P, STR_PS, STR_PSCb]\n",
    "\n",
    "SELECTION_CLUSTER_15 = SELECTION_CLUSTER[0:15]\n",
    "\n",
    "datasets = [stats.to_numpy(SELECTION_CLUSTER_15, EMPIRICAL), \n",
    "            stats.to_numpy(SELECTION_CLUSTER_15, MODEL_P_disaggregated),\n",
    "            stats.to_numpy(SELECTION_CLUSTER_15, MODEL_PS_disaggregated),\n",
    "            stats.to_numpy(SELECTION_CLUSTER_15, MODEL_PSCb)]\n",
    "\n",
    "labels = [l.split(\"-\")[1] for l in SELECTION_CLUSTER_15]\n",
    "        \n",
    "filename = plot_folder/f\"VIS_{SYNCLUSTERS}_model_specificity.png\"\n",
    "img = plot_line_chart(datasets, x_labels=labels, linestyles=[\".-\",\".-\",\".-\", \".-\"],\n",
    "                      colors=[C_EMPIRICAL, C_M1, C_M2, C_M3], y_lim=(-0.1, 0.5 * 10**6), capsize=2, linewidth=0.8, marker_size=4,       \n",
    "    dataset_labels=dataset_labels, error_bars=True, use_log=True, hline_y=None,  adjust_left=0.18, adjust_bottom=0.15, fig_size=figsize_mm_to_inch(60,80), filename=filename)\n",
    "display(img)"
   ]
  },
  {
   "cell_type": "code",
   "execution_count": null,
   "metadata": {},
   "outputs": [],
   "source": [
    "dataset_labels = [STR_EMPIRICAL, STR_NULL]\n",
    "\n",
    "datasets = [stats.to_numpy(SELECTION_CLUSTER_15, EMPIRICAL), \n",
    "            stats.to_numpy(SELECTION_CLUSTER_15, MODEL_NULL)]\n",
    "\n",
    "labels = [l.split(\"-\")[1] for l in SELECTION_CLUSTER_15]\n",
    "        \n",
    "filename = plot_folder/f\"VIS_{SYNCLUSTERS}_empirical-null.png\"\n",
    "img = plot_line_chart(datasets, x_labels=labels, linestyles=[\".-\",\".-\"],\n",
    "                      colors=[C_EMPIRICAL, C_H0], y_lim=(-0.1, 0.5 * 10**6), capsize=2, linewidth=0.8, marker_size=4,       \n",
    "    dataset_labels=dataset_labels, error_bars=True, use_log=True, hline_y=None,  adjust_left=0.18, adjust_bottom=0.15, fig_size=figsize_mm_to_inch(60,80), filename=filename)\n",
    "display(img)"
   ]
  },
  {
   "cell_type": "markdown",
   "metadata": {},
   "source": [
    "## Triplet motifs"
   ]
  },
  {
   "cell_type": "code",
   "execution_count": null,
   "metadata": {},
   "outputs": [],
   "source": [
    "dataset_labels = [STR_EMPIRICAL, STR_NULL, STR_P, STR_PS, STR_PSCb]\n",
    "\n",
    "datasets = [stats.to_numpy(SELECTION_MOTIF, EMPIRICAL), \n",
    "            stats.to_numpy(SELECTION_MOTIF, MODEL_NULL),\n",
    "            stats.to_numpy(SELECTION_MOTIF, MODEL_P),\n",
    "            stats.to_numpy(SELECTION_MOTIF, MODEL_PS_disaggregated),\n",
    "            stats.to_numpy(SELECTION_MOTIF, MODEL_PSCb)]\n",
    "\n",
    "datasets_null_model = [stats.to_numpy(SELECTION_MOTIF, EMPIRICAL), \n",
    "            stats.to_numpy(SELECTION_MOTIF, MODEL_NULL)]\n",
    "\n",
    "datasets_specificity_models = [stats.to_numpy(SELECTION_MOTIF, EMPIRICAL), \n",
    "            stats.to_numpy(SELECTION_MOTIF, MODEL_P),\n",
    "            stats.to_numpy(SELECTION_MOTIF, MODEL_PS_disaggregated),\n",
    "            stats.to_numpy(SELECTION_MOTIF, MODEL_PSCb)]\n",
    "\n",
    "filename = plot_folder/f\"VIS_{MOTIFS}.png\"\n",
    "img = plot_motifs_bar_chart(datasets, \n",
    "    colors = [C_EMPIRICAL, C_H0, C_M1, C_M2, C_M3],\n",
    "    dataset_labels=dataset_labels, quantile_low=25, quantile_high=75,\n",
    "    use_mean=False, marker_size=4, capsize=0, y_axis_label=\"occurrences relative to random\",\n",
    "    error_bars=True, y_lim=(-0.5,10**6), use_log=True, fig_size=figsize_mm_to_inch(160,50), adjust_left=0.07, filename=filename)\n",
    "display(img)"
   ]
  },
  {
   "cell_type": "code",
   "execution_count": null,
   "metadata": {},
   "outputs": [],
   "source": [
    "selected_id = 6\n",
    "    \n",
    "filename = plot_folder/f\"VIS_{MOTIFS}_selected_{selected_id}_model_null.png\"\n",
    "img = plot_motifs_bar_chart(datasets_null_model, \n",
    "    selected_motifs=(selected_id,),\n",
    "    colors = [C_EMPIRICAL, C_H0],\n",
    "    dataset_labels=None, quantile_low=25, quantile_high=75,\n",
    "    use_mean=False, marker_size=4.5, capsize=0, y_axis_label=\"occurrences relative to random\", adjust_bottom=0.25,\n",
    "    error_bars=True, y_lim=(-0.5,2*10**2), use_log=True, fig_size=figsize_mm_to_inch(25,25), adjust_left=0.25, filename=filename)\n",
    "display(img)"
   ]
  },
  {
   "cell_type": "code",
   "execution_count": null,
   "metadata": {},
   "outputs": [],
   "source": [
    "selected_id = 6\n",
    "    \n",
    "filename = plot_folder/f\"VIS_{MOTIFS}_selected_{selected_id}_model_specificity.png\"\n",
    "img = plot_motifs_bar_chart(datasets_specificity_models, \n",
    "    selected_motifs=(selected_id,),\n",
    "    colors = [C_EMPIRICAL, C_M1, C_M2, C_M3],\n",
    "    dataset_labels=None, quantile_low=25, quantile_high=75,\n",
    "    use_mean=False, marker_size=4.5, capsize=0, y_axis_label=\"occurrences relative to random\", adjust_bottom=0.25,\n",
    "    error_bars=True, y_lim=(-0.5,2*10**2), use_log=True, fig_size=figsize_mm_to_inch(25,25), adjust_left=0.25, filename=filename)\n",
    "display(img)"
   ]
  },
  {
   "cell_type": "code",
   "execution_count": null,
   "metadata": {},
   "outputs": [],
   "source": [
    "selected_id = 8\n",
    "    \n",
    "filename = plot_folder/f\"VIS_{MOTIFS}_selected_{selected_id}_model_null.png\"\n",
    "img = plot_motifs_bar_chart(datasets_null_model, \n",
    "    selected_motifs=(selected_id,),\n",
    "    colors = [C_EMPIRICAL, C_H0],\n",
    "    dataset_labels=None, quantile_low=25, quantile_high=75,\n",
    "    use_mean=False, marker_size=4.5, capsize=0, y_axis_label=\"occurrences relative to random\", adjust_bottom=0.25,\n",
    "    error_bars=True, y_lim=(-0.5,2*10**3), use_log=True, fig_size=figsize_mm_to_inch(25,25), adjust_left=0.25, filename=filename)\n",
    "display(img)"
   ]
  },
  {
   "cell_type": "code",
   "execution_count": null,
   "metadata": {},
   "outputs": [],
   "source": [
    "selected_id = 8\n",
    "    \n",
    "filename = plot_folder/f\"VIS_{MOTIFS}_selected_{selected_id}_model_specificity.png\"\n",
    "img = plot_motifs_bar_chart(datasets_specificity_models, \n",
    "    selected_motifs=(selected_id,),\n",
    "    colors = [C_EMPIRICAL, C_M1, C_M2, C_M3],\n",
    "    dataset_labels=None, quantile_low=25, quantile_high=75,\n",
    "    use_mean=False, marker_size=4.5, capsize=0, y_axis_label=\"occurrences relative to random\", adjust_bottom=0.25,\n",
    "    error_bars=True, y_lim=(-0.5,2*10**3), use_log=True, fig_size=figsize_mm_to_inch(25,25), adjust_left=0.25, filename=filename)\n",
    "display(img)"
   ]
  },
  {
   "cell_type": "code",
   "execution_count": null,
   "metadata": {},
   "outputs": [],
   "source": [
    "selected_id = 4\n",
    "    \n",
    "filename = plot_folder/f\"VIS_{MOTIFS}_selected_{selected_id}_model_null.png\"\n",
    "img = plot_motifs_bar_chart(datasets_null_model, \n",
    "    selected_motifs=(selected_id,),\n",
    "    colors = [C_EMPIRICAL, C_H0],\n",
    "    dataset_labels=None, quantile_low=25, quantile_high=75,\n",
    "    use_mean=False, marker_size=4.5, capsize=0, y_axis_label=\"occurrences relative to random\", adjust_bottom=0.25,\n",
    "    error_bars=True, y_lim=(-0.5,2*10**2), use_log=True, fig_size=figsize_mm_to_inch(25,25), adjust_left=0.25, filename=filename)\n",
    "display(img)"
   ]
  },
  {
   "cell_type": "code",
   "execution_count": null,
   "metadata": {},
   "outputs": [],
   "source": [
    "selected_id = 4\n",
    "    \n",
    "filename = plot_folder/f\"VIS_{MOTIFS}_selected_{selected_id}_model_specificity.png\"\n",
    "img = plot_motifs_bar_chart(datasets_specificity_models, \n",
    "    selected_motifs=(selected_id,),\n",
    "    colors = [C_EMPIRICAL, C_M1, C_M2, C_M3],\n",
    "    dataset_labels=None, quantile_low=25, quantile_high=75,\n",
    "    use_mean=False, marker_size=4.5, capsize=0, y_axis_label=\"occurrences relative to random\", adjust_bottom=0.25,\n",
    "    error_bars=True, y_lim=(-0.5,2*10**2), use_log=True, fig_size=figsize_mm_to_inch(25,25), adjust_left=0.25, filename=filename)\n",
    "display(img)"
   ]
  }
 ],
 "metadata": {
  "kernelspec": {
   "display_name": "wiring-specificity",
   "language": "python",
   "name": "python3"
  },
  "language_info": {
   "codemirror_mode": {
    "name": "ipython",
    "version": 3
   },
   "file_extension": ".py",
   "mimetype": "text/x-python",
   "name": "python",
   "nbconvert_exporter": "python",
   "pygments_lexer": "ipython3",
   "version": "3.11.9"
  }
 },
 "nbformat": 4,
 "nbformat_minor": 2
}
