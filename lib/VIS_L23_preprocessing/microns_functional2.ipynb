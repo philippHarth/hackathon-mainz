{
 "cells": [
  {
   "cell_type": "markdown",
   "metadata": {},
   "source": [
    "# Orientation/Direction Tuning\n",
    "- Compute tuning curves.\n",
    "- Determine orientation/direction selectivity of cells using permutation test (Ecker et al., 2014, Baden et al., 2016)."
   ]
  },
  {
   "cell_type": "code",
   "execution_count": 9,
   "metadata": {},
   "outputs": [],
   "source": [
    "import os\n",
    "import numpy as np\n",
    "import pandas as pd\n",
    "\n",
    "import datajoint as dj\n",
    "\n",
    "from lib.data import *\n",
    "from lib.tuning import *\n",
    "from lib.calcium import *\n",
    "from lib.plot import *\n",
    "from lib.utils import *\n",
    "\n",
    "import matplotlib.pyplot as plt"
   ]
  },
  {
   "cell_type": "markdown",
   "metadata": {},
   "source": [
    "## Load data tables"
   ]
  },
  {
   "cell_type": "code",
   "execution_count": 10,
   "metadata": {},
   "outputs": [
    {
     "name": "stdout",
     "output_type": "stream",
     "text": [
      "dict_keys(['scan_id', 'segmentation', 'segment_id', 'manual_id', 'trace_raw', 'trace', 'spike'])\n"
     ]
    }
   ],
   "source": [
    "dataFolder = \"/srv/public/datasets/VIS-L23/\"\n",
    "functionalDataFolder = os.path.join(dataFolder, \"data_Microns_L23\", \"211019_vignette_functional_analysis_data\", \"function_data_tables\")\n",
    "\n",
    "Stimulus = load_dict(os.path.join(functionalDataFolder,\"Stimulus.pkl\"))\n",
    "EASETrace = load_dict(os.path.join(functionalDataFolder,\"EASETrace.pkl\"))\n",
    "EASETuning = load_dict(os.path.join(functionalDataFolder,\"EASETuning.pkl\"))\n",
    "\n",
    "print(EASETrace.keys())"
   ]
  },
  {
   "cell_type": "markdown",
   "metadata": {},
   "source": [
    "## Pyramidal cells with functional data"
   ]
  },
  {
   "cell_type": "code",
   "execution_count": 11,
   "metadata": {},
   "outputs": [],
   "source": [
    "seg_id_list = EASETuning[\"segment_id\"]\n",
    "scan_list = EASETuning[\"scan_id\"]\n",
    "n_cells = seg_id_list.shape[0]"
   ]
  },
  {
   "cell_type": "code",
   "execution_count": 12,
   "metadata": {},
   "outputs": [],
   "source": [
    "with open(os.path.join(dataFolder, \"functional_data\", \"ids_scans.csv\"), \"w\") as f:\n",
    "    f.write(\"neuron_id,scan_id\\n\")\n",
    "    for idx in range(0,len(seg_id_list)):\n",
    "        segId = seg_id_list[idx]\n",
    "        scanId = scan_list[idx]\n",
    "        f.write(\"{},{}\\n\".format(segId, scanId))"
   ]
  },
  {
   "cell_type": "code",
   "execution_count": 14,
   "metadata": {},
   "outputs": [],
   "source": [
    "\n",
    "def writeIds(filename, ids):\n",
    "    with open(filename, \"w\") as f:\n",
    "        for neuronId in ids:\n",
    "            f.write(\"{}\\n\".format(neuronId))\n",
    "\n",
    "def processAndSaveTraceData(scanId, traceData, traceType, scanIds):\n",
    "    corrMatrix = np.corrcoef(traceData)\n",
    "    filenameMatrix = os.path.join(dataFolder, \"functional_data\", \"correlation_{}_{}\".format(traceType, scanId))\n",
    "    np.savetxt(filenameMatrix, corrMatrix)\n",
    "\n",
    "def writeIdsForScan(scanId, ids):\n",
    "    filenameIds = os.path.join(dataFolder, \"functional_data\", \"ids_scan_{}\".format(scanId))\n",
    "    writeIds(filenameIds, ids) \n",
    "\n",
    "for traceType in [\"trace_raw\", \"trace\", \"spike\"]:\n",
    "    lastScanId = -1\n",
    "    traceData = None\n",
    "    scanNeuronIds = []\n",
    "    for idx in range(0,len(seg_id_list)):\n",
    "        segId = seg_id_list[idx]\n",
    "        scanId = scan_list[idx]    \n",
    "        if(scanId != lastScanId):\n",
    "            if(traceData is not None):\n",
    "                processAndSaveTraceData(lastScanId, traceData, traceType, scanNeuronIds)         \n",
    "                writeIdsForScan(scanId, scanNeuronIds)\n",
    "            traceData = []\n",
    "            scanNeuronIds = []\n",
    "            lastScanId = scanId\n",
    "        scanNeuronIds.append(segId)\n",
    "        traceData.append(get_trace(EASETrace, segId, scanId, traceType))\n",
    "        \n",
    "    processAndSaveTraceData(lastScanId, traceData, traceType, scanNeuronIds)\n",
    "    writeIdsForScan(scanId, scanNeuronIds)"
   ]
  },
  {
   "cell_type": "code",
   "execution_count": 15,
   "metadata": {},
   "outputs": [],
   "source": [
    "# save tuning curves to file\n",
    "\n",
    "with open(os.path.join(dataFolder, \"functional_data\", \"tuning_curves.csv\"), \"w\") as f:\n",
    "    f.write(\"neuron_id\")\n",
    "    for k in range(1, 17):\n",
    "        f.write(\",D{}\".format(k))\n",
    "    f.write(\"\\n\")\n",
    "    \n",
    "    for i in range(n_cells):    \n",
    "        seg_id = seg_id_list[i]\n",
    "        f.write(\"{}\".format(seg_id))\n",
    "        \n",
    "        scan_id = int(scan_list[seg_id_list==seg_id])\n",
    "\n",
    "        trace = get_trace(EASETrace, seg_id, scan_id, \"trace_raw\")\n",
    "        stimlab = get_stim_label(Stimulus, scan_id)\n",
    "\n",
    "        response_array = get_peakamp_tdarray(trace, stimlab)\n",
    "        tune = tuning_curve(response_array)\n",
    "        \n",
    "        for k in range(0, 16):\n",
    "            f.write(\",{:.6f}\".format(tune[k]))\n",
    "        f.write(\"\\n\")\n",
    "        \n"
   ]
  },
  {
   "cell_type": "markdown",
   "metadata": {},
   "source": [
    "## Determine orientation/direction tuned cells with permutation test\n",
    "- $p<0.01$ are significantly tuned cells."
   ]
  },
  {
   "cell_type": "code",
   "execution_count": null,
   "metadata": {},
   "outputs": [],
   "source": [
    "T = 10000 # Number of iterations for permutation test\n",
    "\n",
    "dsi_list = np.zeros(n_cells)\n",
    "osi_list = np.zeros(n_cells)\n",
    "dsi_pvalue = np.zeros(n_cells)\n",
    "osi_pvalue = np.zeros(n_cells)\n",
    "for i in range(n_cells):\n",
    "    \n",
    "    seg_id = seg_id_list[i]\n",
    "    scan_id = int(scan_list[seg_id_list==seg_id])\n",
    "\n",
    "    trace = get_trace(EASETrace, seg_id, scan_id, \"trace_raw\")\n",
    "    stimlab = get_stim_label(Stimulus, scan_id)\n",
    "    \n",
    "    response_array = get_peakamp_tdarray(trace, stimlab)\n",
    "    tune = tuning_curve(response_array)\n",
    "    \n",
    "    print(tune)\n",
    "    \n",
    "    dsi_list[i] = dsi(tune)\n",
    "    osi_list[i] = osi(tune)\n",
    "    dsi_shuf, dsi_pvalue[i] = permutation_test(response_array, T, \"dsi\")\n",
    "    osi_shuf, osi_pvalue[i] = permutation_test(response_array, T, \"osi\")\n",
    "    \n",
    "    if (i+1)%10==0:\n",
    "        print(\"{} / {} complete.\".format(i+1, n_cells))"
   ]
  },
  {
   "cell_type": "code",
   "execution_count": null,
   "metadata": {},
   "outputs": [],
   "source": [
    "# Same format as data/cell_functional_info.csv\n",
    "data = {\"segment_id\": seg_id_list,\n",
    "     \"scan\": scan_list,\n",
    "     \"osi\": osi_list, \n",
    "     \"osi_p\": osi_pvalue,\n",
    "     \"dsi\": dsi_list,\n",
    "     \"dsi_p\": dsi_pvalue}\n",
    "\n",
    "df = pd.DataFrame(data=data)\n",
    "df"
   ]
  },
  {
   "cell_type": "code",
   "execution_count": null,
   "metadata": {},
   "outputs": [],
   "source": []
  }
 ],
 "metadata": {
  "kernelspec": {
   "display_name": "Python 3 (ipykernel)",
   "language": "python",
   "name": "python3"
  },
  "language_info": {
   "codemirror_mode": {
    "name": "ipython",
    "version": 3
   },
   "file_extension": ".py",
   "mimetype": "text/x-python",
   "name": "python",
   "nbconvert_exporter": "python",
   "pygments_lexer": "ipython3",
   "version": "3.7.13"
  }
 },
 "nbformat": 4,
 "nbformat_minor": 4
}
