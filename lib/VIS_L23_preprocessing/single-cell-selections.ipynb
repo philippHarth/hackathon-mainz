{
 "cells": [
  {
   "cell_type": "code",
   "execution_count": 1,
   "id": "0ad290dc",
   "metadata": {
    "execution": {
     "iopub.execute_input": "2023-05-08T16:58:56.733419Z",
     "iopub.status.busy": "2023-05-08T16:58:56.732786Z",
     "iopub.status.idle": "2023-05-08T16:58:56.972058Z",
     "shell.execute_reply": "2023-05-08T16:58:56.971490Z"
    },
    "papermill": {
     "duration": 0.250332,
     "end_time": "2023-05-08T16:58:56.974372",
     "exception": false,
     "start_time": "2023-05-08T16:58:56.724040",
     "status": "completed"
    },
    "tags": []
   },
   "outputs": [],
   "source": [
    "from pathlib import Path\n",
    "import pandas as pd\n",
    "import numpy as np\n",
    "from vis_L23_util import get_data_dir\n",
    "\n",
    "from util_preprocessing import filter_synapses\n",
    "\n",
    "data_folder = get_data_dir() / \"VIS-L23\"\n",
    "soma_file = data_folder / \"meta\" / \"soma.csv\""
   ]
  },
  {
   "cell_type": "code",
   "execution_count": 2,
   "id": "f00b7dcf",
   "metadata": {
    "execution": {
     "iopub.execute_input": "2023-05-08T16:58:56.981117Z",
     "iopub.status.busy": "2023-05-08T16:58:56.980711Z",
     "iopub.status.idle": "2023-05-08T16:58:57.004811Z",
     "shell.execute_reply": "2023-05-08T16:58:57.004263Z"
    },
    "papermill": {
     "duration": 0.030276,
     "end_time": "2023-05-08T16:58:57.007709",
     "exception": false,
     "start_time": "2023-05-08T16:58:56.977433",
     "status": "completed"
    },
    "tags": []
   },
   "outputs": [],
   "source": [
    "somas = pd.read_csv(soma_file)\n",
    "#print(somas)\n",
    "\n",
    "celltype_map = {} # neuron id -> celltype\n",
    "for _, row in somas.iterrows():\n",
    "    celltype_map[row[\"neuron_id_mapped\"].astype(int)] = row[\"celltype\"].astype(int)"
   ]
  },
  {
   "cell_type": "code",
   "execution_count": 3,
   "id": "9ac09c4e",
   "metadata": {
    "execution": {
     "iopub.execute_input": "2023-05-08T16:58:57.015388Z",
     "iopub.status.busy": "2023-05-08T16:58:57.015086Z",
     "iopub.status.idle": "2023-05-08T16:58:57.021733Z",
     "shell.execute_reply": "2023-05-08T16:58:57.021179Z"
    },
    "papermill": {
     "duration": 0.013321,
     "end_time": "2023-05-08T16:58:57.024314",
     "exception": false,
     "start_time": "2023-05-08T16:58:57.010993",
     "status": "completed"
    },
    "tags": []
   },
   "outputs": [],
   "source": [
    "ids_exc = sorted(somas[somas[\"axon_length\"] >= 100][\"neuron_id_mapped\"].to_numpy(int))\n",
    "ids_inh = sorted(somas[somas[\"celltype\"] != 1][\"neuron_id_mapped\"].to_numpy(int))\n",
    "\n",
    "ids_selected = ids_exc + ids_inh\n",
    "\n",
    "np.savetxt(data_folder / \"meta\" / \"ids_selected_EXC\", ids_exc, fmt=\"%d\")\n",
    "np.savetxt(data_folder / \"meta\" / \"ids_selected_INH\", ids_inh, fmt=\"%d\")\n",
    "np.savetxt(data_folder / \"meta\" / \"ids_selected\", ids_selected, fmt=\"%d\")"
   ]
  },
  {
   "cell_type": "code",
   "execution_count": 4,
   "id": "a60fe813",
   "metadata": {
    "execution": {
     "iopub.execute_input": "2023-05-08T16:58:57.031756Z",
     "iopub.status.busy": "2023-05-08T16:58:57.031361Z",
     "iopub.status.idle": "2023-05-08T16:58:57.267660Z",
     "shell.execute_reply": "2023-05-08T16:58:57.266751Z"
    },
    "papermill": {
     "duration": 0.243353,
     "end_time": "2023-05-08T16:58:57.270794",
     "exception": false,
     "start_time": "2023-05-08T16:58:57.027441",
     "status": "completed"
    },
    "tags": []
   },
   "outputs": [],
   "source": [
    "filter_synapses(data_folder/\"synapses_classified_neurons.csv\", data_folder/\"synapses_selected_neurons.csv\", ids_selected)"
   ]
  },
  {
   "cell_type": "code",
   "execution_count": 5,
   "id": "7d0fbdb1",
   "metadata": {
    "execution": {
     "iopub.execute_input": "2023-05-08T16:58:57.279146Z",
     "iopub.status.busy": "2023-05-08T16:58:57.278846Z",
     "iopub.status.idle": "2023-05-08T16:58:57.290794Z",
     "shell.execute_reply": "2023-05-08T16:58:57.290236Z"
    },
    "papermill": {
     "duration": 0.018822,
     "end_time": "2023-05-08T16:58:57.293458",
     "exception": false,
     "start_time": "2023-05-08T16:58:57.274636",
     "status": "completed"
    },
    "tags": []
   },
   "outputs": [],
   "source": [
    "synapses_filtered = pd.read_csv(data_folder/\"synapses_selected_neurons.csv\")[[\"pre_id\", \"post_id\", \"pre_celltype\"]].to_numpy(int)\n",
    "\n",
    "ids = []\n",
    "celltypes = []\n",
    "num_outgoing = []\n",
    "num_incoming = []\n",
    "\n",
    "for neuron_id in ids_selected:\n",
    "    ids.append(neuron_id)\n",
    "    celltypes.append(celltype_map[neuron_id])\n",
    "    mask_pre = synapses_filtered[:,0] == neuron_id\n",
    "    mask_post = synapses_filtered[:,1] == neuron_id    \n",
    "    num_outgoing.append(np.count_nonzero(mask_pre))\n",
    "    num_incoming.append(np.count_nonzero(mask_post))\n",
    "\n",
    "data = {\n",
    "    \"neuron_id\" : ids,\n",
    "    \"celltype\" : celltypes,\n",
    "    \"outgoing_synapses\" : num_outgoing,\n",
    "    \"incoming_synapses\" : num_incoming\n",
    "}\n",
    "\n",
    "selected_neuron_properties = pd.DataFrame(data)\n",
    "selected_neuron_properties.to_csv(data_folder/\"meta\"/\"selected_neuron_properties.csv\", index=False)"
   ]
  },
  {
   "cell_type": "code",
   "execution_count": 6,
   "id": "41e1d119",
   "metadata": {
    "execution": {
     "iopub.execute_input": "2023-05-08T16:58:57.300889Z",
     "iopub.status.busy": "2023-05-08T16:58:57.300613Z",
     "iopub.status.idle": "2023-05-08T16:58:57.307956Z",
     "shell.execute_reply": "2023-05-08T16:58:57.307407Z"
    },
    "papermill": {
     "duration": 0.013879,
     "end_time": "2023-05-08T16:58:57.310592",
     "exception": false,
     "start_time": "2023-05-08T16:58:57.296713",
     "status": "completed"
    },
    "tags": []
   },
   "outputs": [
    {
     "name": "stdout",
     "output_type": "stream",
     "text": [
      "(47, 4)\n",
      "(array([ 1, 20, 21, 22, 23, 24, 25]), array([33,  3,  3,  4,  2,  1,  1]))\n"
     ]
    }
   ],
   "source": [
    "df = selected_neuron_properties\n",
    "\n",
    "df_filtered = df[((df[\"outgoing_synapses\"] >= 20) & (df[\"celltype\"] == 1)) | ((df[\"outgoing_synapses\"] >= 4) & (df[\"celltype\"] != 1))]\n",
    "\n",
    "print(df_filtered.shape)\n",
    "print(np.unique(df_filtered[\"celltype\"].to_numpy(int), return_counts=True))\n",
    "\n",
    "ids_single_cell = sorted(df_filtered[\"neuron_id\"].to_numpy(int))\n",
    "np.savetxt(data_folder / \"meta\" / \"ids_single_cell_analysis\", ids_single_cell, fmt=\"%d\")"
   ]
  }
 ],
 "metadata": {
  "interpreter": {
   "hash": "a9214ff7ef047d62d99a0ef7f7e057667bed0ac1d0a23c4990c02da90bb090cd"
  },
  "kernelspec": {
   "display_name": "Python 3.9.15",
   "language": "python",
   "name": "python3"
  },
  "language_info": {
   "codemirror_mode": {
    "name": "ipython",
    "version": 3
   },
   "file_extension": ".py",
   "mimetype": "text/x-python",
   "name": "python",
   "nbconvert_exporter": "python",
   "pygments_lexer": "ipython3",
   "version": "3.9.15"
  },
  "papermill": {
   "default_parameters": {},
   "duration": 1.997529,
   "end_time": "2023-05-08T16:58:57.633201",
   "environment_variables": {},
   "exception": null,
   "input_path": "single-cell-selections.ipynb",
   "output_path": "single-cell-selections.ipynb",
   "parameters": {},
   "start_time": "2023-05-08T16:58:55.635672",
   "version": "2.4.0"
  }
 },
 "nbformat": 4,
 "nbformat_minor": 5
}
