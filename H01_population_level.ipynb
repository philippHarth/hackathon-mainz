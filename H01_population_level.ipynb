{
 "cells": [
  {
   "cell_type": "code",
   "execution_count": null,
   "metadata": {},
   "outputs": [],
   "source": [
    "import numpy as np\n",
    "import pickle\n",
    "from pathlib import Path\n",
    "\n",
    "from IPython.display import display\n",
    "from lib.util_plot import *\n",
    "from lib.constants import *\n",
    "from lib.multilevel_analysis import *\n",
    "from lib.pandas_impl import *\n",
    "from lib.pandas_stats_VIS import *\n",
    "\n",
    "from lib.matrix_analyzer import *\n",
    "\n",
    "import lib.H01_preprocessing.h01_constants as H01"
   ]
  },
  {
   "cell_type": "markdown",
   "metadata": {},
   "source": [
    "### Load and prepare data"
   ]
  },
  {
   "cell_type": "code",
   "execution_count": null,
   "metadata": {},
   "outputs": [],
   "source": [
    "data_folder = Path.cwd() / 'data' / 'H01'\n",
    "eval_folder = Path.cwd() / 'data' / 'eval' / 'H01_24-12-17'\n",
    "eval_folder.mkdir(parents=True, exist_ok=True)\n",
    "plot_folder = eval_folder / \"plots\"\n",
    "plot_folder.mkdir(parents=True, exist_ok=True)"
   ]
  },
  {
   "cell_type": "code",
   "execution_count": null,
   "metadata": {},
   "outputs": [],
   "source": [
    "filename = eval_folder / \"multilevel_analysis.pkl\"\n",
    "with open(filename, 'rb') as file:\n",
    "    multilevel_analysis = pickle.load(file)\n",
    "\n",
    "stats = multilevel_analysis.stats\n",
    "df_summary = multilevel_analysis.df_summary"
   ]
  },
  {
   "cell_type": "markdown",
   "metadata": {},
   "source": [
    "select neuron IDs for cellular-level matrix plots"
   ]
  },
  {
   "cell_type": "code",
   "execution_count": null,
   "metadata": {},
   "outputs": [],
   "source": [
    "pre_ids = set(df_summary.index.get_level_values(\"pre_id_mapped\"))\n",
    "post_ids = set(df_summary.index.get_level_values(\"post_id_mapped\"))\n",
    "all_ids = pre_ids.union(post_ids)\n",
    "all_ids.remove(-1)   \n",
    "no_presynaptic = all_ids - pre_ids\n",
    "\n",
    "neuron_domain_pre = get_neuron_to_neuron_domain(df_summary, \"pre_celltype_merged\", \"post_celltype_merged\", \\\n",
    "                                                 celltype_order= H01.UNK_EXC_INH_OTHER, ignored_neuron_ids=[-1])\n",
    "neuron_domain_post = get_neuron_to_neuron_domain(df_summary, \"pre_celltype_merged\", \"post_celltype_merged\", \\\n",
    "                                                  celltype_order=H01.UNK_EXC_INH_OTHER, ignored_neuron_ids=[-1])"
   ]
  },
  {
   "cell_type": "code",
   "execution_count": null,
   "metadata": {},
   "outputs": [],
   "source": [
    "initPlotSettings(False)\n",
    "\n",
    "COLORS_CATEGORICAL_MUTED = sns.color_palette(\"muted\") \n",
    "COLORS_CATEGORICAL_DARK = sns.color_palette(\"dark\") \n",
    "COLORS_CATEGORICAL_COLORBLIND = sns.color_palette(\"colorblind\") \n",
    "COLORS_CATEGORICAL_BRIGHT = sns.color_palette(\"bright\") \n",
    "COLORS_CATEGORICAL_PASTEL = sns.color_palette(\"pastel\") \n",
    "\n",
    "C_EMPIRICAL = COLORS_CATEGORICAL[2]\n",
    "C_H0 = COLOR_EMPIRICAL\n",
    "C_M1 = COLORS_CATEGORICAL_MUTED[7]\n",
    "C_M2 = COLORS_CATEGORICAL_BRIGHT[7]\n",
    "C_M3 = COLORS_CATEGORICAL_PASTEL[7]"
   ]
  },
  {
   "cell_type": "markdown",
   "metadata": {},
   "source": [
    "### Aggregate statistics and preference matrices"
   ]
  },
  {
   "cell_type": "markdown",
   "metadata": {},
   "source": [
    "#### Synapse counts by celltype"
   ]
  },
  {
   "cell_type": "code",
   "execution_count": null,
   "metadata": {},
   "outputs": [],
   "source": [
    "datasets = [stats.to_numpy(SELECTION_CELLTYPE, EMPIRICAL), \n",
    "            stats.to_numpy(SELECTION_CELLTYPE, MODEL_NULL),\n",
    "            stats.to_numpy(SELECTION_CELLTYPE, MODEL_P)]\n",
    "\n",
    "img = plot_bar_chart(datasets,\n",
    "                     #dataset_labels = [STR_EMPIRICAL, STR_NULL, STR_P], \n",
    "                     colors=[C_EMPIRICAL, C_H0, C_M1],\n",
    "                     x_labels=SELECTION_CELLTYPE,\n",
    "                     y_lim=(10, 10**5), use_log=True, error_bars=True,\n",
    "                     adjust_left=0.2, fig_size=figsize_mm_to_inch(50,40), \n",
    "                     filename=plot_folder/f\"H01_{SYNCOUNT_POPULATION}.png\")\n",
    "display(img)"
   ]
  },
  {
   "cell_type": "code",
   "execution_count": null,
   "metadata": {},
   "outputs": [],
   "source": [
    "datasets = [stats.to_numpy(SELECTION_CELLTYPE_H01_ALL, EMPIRICAL), \n",
    "            stats.to_numpy(SELECTION_CELLTYPE_H01_ALL, MODEL_NULL),\n",
    "            stats.to_numpy(SELECTION_CELLTYPE_H01_ALL, MODEL_P)]\n",
    "\n",
    "img = plot_bar_chart(datasets,\n",
    "                     dataset_labels = [STR_EMPIRICAL, STR_NULL, STR_P], \n",
    "                     colors=[C_EMPIRICAL, C_H0, C_M1],\n",
    "                     x_labels=SELECTION_CELLTYPE_H01_ALL,\n",
    "                     y_lim=(10, 10**8), use_log=True, error_bars=True,\n",
    "                     adjust_left=0.08, fig_size=figsize_mm_to_inch(150,50), \n",
    "                     filename=plot_folder/f\"H01_{SYNCOUNT_POPULATION}_all.png\")\n",
    "display(img)"
   ]
  },
  {
   "cell_type": "code",
   "execution_count": null,
   "metadata": {},
   "outputs": [],
   "source": [
    "matrix_analyzer = ConnectomeMatrixAnalyzer(df_summary, plot_folder)\n",
    "matrix_analyzer.set_selection(exclude_filter={})\n",
    "matrix_analyzer.set_data_columns(\"model-P_preference\")\n",
    "matrix_analyzer.build_matrix([\"pre_celltype_merged\"], \n",
    "                             [\"post_celltype_merged\"],    \n",
    "                             row_domains = H01.UNK_EXC_INH_OTHER[1:3],  \n",
    "                             col_domains = H01.UNK_EXC_INH_OTHER[1:3],\n",
    "                             value_label_map = {\n",
    "                                 \"pre_celltype_merged\" : H01.CELLTYPE_LABELS,\n",
    "                                 \"post_celltype_merged\" : H01.CELLTYPE_LABELS,\n",
    "                             },\n",
    "                             aggregation_fn=\"mean\",\n",
    "                             default_value=1)\n",
    "matrix_analyzer.render_matrix(\"H01-model-P-preference\", \n",
    "                              colormap_name=\"coolwarm\", vmin=-1, vmax=1, normalization_function=NormalizePreferenceValue(0.5, 4),\n",
    "                              col_separator_lines=True, row_separator_lines=True, high_res=False)"
   ]
  },
  {
   "cell_type": "code",
   "execution_count": null,
   "metadata": {},
   "outputs": [],
   "source": [
    "matrix_analyzer = ConnectomeMatrixAnalyzer(df_summary, plot_folder)\n",
    "matrix_analyzer.set_selection(exclude_filter={})\n",
    "matrix_analyzer.set_data_columns(\"model-P_preference\")\n",
    "matrix_analyzer.build_matrix([\"pre_celltype_merged\"], \n",
    "                             [\"post_celltype_merged\"],    \n",
    "                             row_domains = H01.EXC_INH_OTHER_UNK,  \n",
    "                             col_domains = H01.EXC_INH_OTHER_UNK,\n",
    "                             value_label_map = {\n",
    "                                 \"pre_celltype_merged\" : H01.CELLTYPE_LABELS,\n",
    "                                 \"post_celltype_merged\" : H01.CELLTYPE_LABELS,\n",
    "                             },\n",
    "                             aggregation_fn=\"mean\",\n",
    "                             default_value=1)\n",
    "matrix_analyzer.render_matrix(\"H01-model-P-preference-all\", \n",
    "                              colormap_name=\"coolwarm\", vmin=-1, vmax=1, normalization_function=NormalizePreferenceValue(0.5, 4),\n",
    "                              col_separator_lines=True, row_separator_lines=True, high_res=False)"
   ]
  },
  {
   "cell_type": "markdown",
   "metadata": {},
   "source": [
    "#### Synapse counts by celltype/compartment"
   ]
  },
  {
   "cell_type": "code",
   "execution_count": null,
   "metadata": {},
   "outputs": [],
   "source": [
    "datasets = [stats.to_numpy(SELECTION_EXC_SUBCELLULAR, EMPIRICAL), \n",
    "            stats.to_numpy(SELECTION_EXC_SUBCELLULAR, MODEL_NULL),\n",
    "            stats.to_numpy(SELECTION_EXC_SUBCELLULAR, MODEL_P),\n",
    "            stats.to_numpy(SELECTION_EXC_SUBCELLULAR, MODEL_PS)]\n",
    "\n",
    "img = plot_bar_chart(datasets,\n",
    "                     dataset_labels = [STR_EMPIRICAL, STR_NULL, STR_P, STR_PS], \n",
    "                     colors=[C_EMPIRICAL, C_H0, C_M1, C_M2],\n",
    "                     x_labels=SELECTION_EXC_SUBCELLULAR,\n",
    "                     y_lim=(1, 10**5), use_log=True, error_bars=True,\n",
    "                     adjust_left=0.1, fig_size=figsize_mm_to_inch(100,50), \n",
    "                     filename=plot_folder/f\"H01_{SYNCOUNT_EXC_SUBCELLULAR}.png\")\n",
    "display(img)"
   ]
  },
  {
   "cell_type": "code",
   "execution_count": null,
   "metadata": {},
   "outputs": [],
   "source": [
    "datasets = [stats.to_numpy(SELECTION_INH_SUBCELLULAR[:-1], EMPIRICAL), \n",
    "            stats.to_numpy(SELECTION_INH_SUBCELLULAR[:-1], MODEL_NULL),\n",
    "            stats.to_numpy(SELECTION_INH_SUBCELLULAR[:-1], MODEL_P),\n",
    "            stats.to_numpy(SELECTION_INH_SUBCELLULAR[:-1], MODEL_PS)]\n",
    "\n",
    "img = plot_bar_chart(datasets,\n",
    "                     dataset_labels = [STR_EMPIRICAL, STR_NULL, STR_P, STR_PS], \n",
    "                     colors=[C_EMPIRICAL, C_H0, C_M1, C_M2],\n",
    "                     x_labels=SELECTION_INH_SUBCELLULAR[:-1],\n",
    "                     y_lim=(1, 10**5), use_log=True, error_bars=True,\n",
    "                     adjust_left=0.15, fig_size=figsize_mm_to_inch(70,40), \n",
    "                     filename=plot_folder/f\"H01_{SYNCOUNT_INH_SUBCELLULAR}.png\")\n",
    "display(img)"
   ]
  },
  {
   "cell_type": "code",
   "execution_count": null,
   "metadata": {},
   "outputs": [],
   "source": [
    "datasets = [stats.to_numpy(SELECTION_EXC_COMPARTMENT_H01_ALL, EMPIRICAL), \n",
    "            stats.to_numpy(SELECTION_EXC_COMPARTMENT_H01_ALL, MODEL_NULL),\n",
    "            stats.to_numpy(SELECTION_EXC_COMPARTMENT_H01_ALL, MODEL_P),\n",
    "            stats.to_numpy(SELECTION_EXC_COMPARTMENT_H01_ALL, MODEL_PS)]\n",
    "\n",
    "img = plot_bar_chart(datasets,\n",
    "                     dataset_labels = [STR_EMPIRICAL, STR_NULL, STR_P, STR_PS], \n",
    "                     colors=[C_EMPIRICAL, C_H0, C_M1, C_M2],\n",
    "                     x_labels=SELECTION_EXC_COMPARTMENT_H01_ALL,\n",
    "                     y_lim=(1, 10**5), use_log=True, error_bars=True,\n",
    "                     adjust_left=0.1, fig_size=figsize_mm_to_inch(180,50), \n",
    "                     filename=plot_folder/f\"H01_{SYNCOUNT_EXC_SUBCELLULAR}_all.png\")\n",
    "display(img)"
   ]
  },
  {
   "cell_type": "code",
   "execution_count": null,
   "metadata": {},
   "outputs": [],
   "source": [
    "datasets = [stats.to_numpy(SELECTION_INH_COMPARTMENT_H01_ALL, EMPIRICAL), \n",
    "            stats.to_numpy(SELECTION_INH_COMPARTMENT_H01_ALL, MODEL_NULL),\n",
    "            stats.to_numpy(SELECTION_INH_COMPARTMENT_H01_ALL, MODEL_P),\n",
    "            stats.to_numpy(SELECTION_INH_COMPARTMENT_H01_ALL, MODEL_PS)]\n",
    "\n",
    "img = plot_bar_chart(datasets,\n",
    "                     dataset_labels = [STR_EMPIRICAL, STR_NULL, STR_P, STR_PS], \n",
    "                     colors=[C_EMPIRICAL, C_H0, C_M1, C_M2],\n",
    "                     x_labels=SELECTION_INH_COMPARTMENT_H01_ALL,\n",
    "                     y_lim=(1, 10**5), use_log=True, error_bars=True,\n",
    "                     adjust_left=0.1, fig_size=figsize_mm_to_inch(180,50), \n",
    "                     filename=plot_folder/f\"H01_{SYNCOUNT_INH_SUBCELLULAR}_all.png\")\n",
    "display(img)"
   ]
  },
  {
   "cell_type": "code",
   "execution_count": null,
   "metadata": {},
   "outputs": [],
   "source": [
    "datasets = [stats.to_numpy(SELECTION_OTHER_COMPARTMENT_H01_ALL, EMPIRICAL), \n",
    "            stats.to_numpy(SELECTION_OTHER_COMPARTMENT_H01_ALL, MODEL_NULL),\n",
    "            stats.to_numpy(SELECTION_OTHER_COMPARTMENT_H01_ALL, MODEL_P),\n",
    "            stats.to_numpy(SELECTION_OTHER_COMPARTMENT_H01_ALL, MODEL_PS)]\n",
    "\n",
    "img = plot_bar_chart(datasets,\n",
    "                     dataset_labels = [STR_EMPIRICAL, STR_NULL, STR_P, STR_PS], \n",
    "                     colors=[C_EMPIRICAL, C_H0, C_M1, C_M2],\n",
    "                     x_labels=SELECTION_OTHER_COMPARTMENT_H01_ALL,\n",
    "                     y_lim=(1, 10**5), use_log=True, error_bars=True,\n",
    "                     adjust_left=0.1, fig_size=figsize_mm_to_inch(180,50), \n",
    "                     filename=plot_folder/f\"H01_synapsecounts_OTHER_compartment_all.png\")\n",
    "display(img)"
   ]
  },
  {
   "cell_type": "code",
   "execution_count": null,
   "metadata": {},
   "outputs": [],
   "source": [
    "datasets = [stats.to_numpy(SELECTION_UNKNOWN_COMPARTMENT_H01_ALL, EMPIRICAL), \n",
    "            stats.to_numpy(SELECTION_UNKNOWN_COMPARTMENT_H01_ALL, MODEL_NULL),\n",
    "            stats.to_numpy(SELECTION_UNKNOWN_COMPARTMENT_H01_ALL, MODEL_P),\n",
    "            stats.to_numpy(SELECTION_UNKNOWN_COMPARTMENT_H01_ALL, MODEL_PS)]\n",
    "\n",
    "img = plot_bar_chart(datasets,\n",
    "                     dataset_labels = [STR_EMPIRICAL, STR_NULL, STR_P, STR_PS], \n",
    "                     colors=[C_EMPIRICAL, C_H0, C_M1, C_M2],\n",
    "                     x_labels=SELECTION_UNKNOWN_COMPARTMENT_H01_ALL,\n",
    "                     y_lim=(1, 10**8), use_log=True, error_bars=True,\n",
    "                     adjust_left=0.1, fig_size=figsize_mm_to_inch(180,50), \n",
    "                     filename=plot_folder/f\"H01_synapsecounts_UNKNOWN_compartment_all.png\")\n",
    "display(img)"
   ]
  },
  {
   "cell_type": "code",
   "execution_count": null,
   "metadata": {},
   "outputs": [],
   "source": [
    "matrix_analyzer = ConnectomeMatrixAnalyzer(df_summary, plot_folder)\n",
    "matrix_analyzer.set_selection(exclude_filter={})\n",
    "matrix_analyzer.set_data_columns(\"model-PS_preference\")\n",
    "matrix_analyzer.build_matrix([\"pre_celltype_merged\"], \n",
    "                             [\"post_celltype_merged\", \"post_compartment\"], \n",
    "                             row_domains = H01.UNK_EXC_INH_OTHER[1:3],  \n",
    "                             col_domains = [(H01.UNK_EXC_INH_OTHER[1], *H01.SOMA), (H01.UNK_EXC_INH_OTHER[1], *H01.DEND), (H01.UNK_EXC_INH_OTHER[1], *H01.AIS), \\\n",
    "                                             (H01.UNK_EXC_INH_OTHER[2], *H01.SOMA), (H01.UNK_EXC_INH_OTHER[2], *H01.DEND), (H01.UNK_EXC_INH_OTHER[2], *H01.AIS)], \n",
    "                             value_label_map = {\n",
    "                                 \"pre_celltype_merged\" : H01.CELLTYPE_LABELS,\n",
    "                                 \"post_celltype_merged\" : H01.CELLTYPE_LABELS,\n",
    "                                 \"post_compartment\" : H01.COMPARTMENT_LABELS,\n",
    "                             },\n",
    "                             aggregation_fn=\"mean\",\n",
    "                             default_value=1)\n",
    "matrix_analyzer.render_matrix(\"H01-model-PS-preference\", \n",
    "                              colormap_name=\"coolwarm\", vmin=-1, vmax=1, normalization_function=NormalizePreferenceValue(0.5, 4),\n",
    "                              col_separator_lines=True, row_separator_lines=True)"
   ]
  },
  {
   "cell_type": "code",
   "execution_count": null,
   "metadata": {},
   "outputs": [],
   "source": [
    "matrix_analyzer = ConnectomeMatrixAnalyzer(df_summary, plot_folder)\n",
    "matrix_analyzer.set_selection(exclude_filter={})\n",
    "matrix_analyzer.set_data_columns(\"model-PS_preference\")\n",
    "matrix_analyzer.build_matrix([\"pre_celltype_merged\"], \n",
    "                             [\"post_celltype_merged\", \"post_compartment\"], \n",
    "                             row_domains = H01.EXC_INH_OTHER_UNK,  \n",
    "                             col_domains = [(H01.UNK_EXC_INH_OTHER[1], *H01.SOMA), (H01.UNK_EXC_INH_OTHER[1], *H01.DEND), (H01.UNK_EXC_INH_OTHER[1], *H01.AIS), \n",
    "                                             (H01.UNK_EXC_INH_OTHER[2], *H01.SOMA), (H01.UNK_EXC_INH_OTHER[2], *H01.DEND), (H01.UNK_EXC_INH_OTHER[2], *H01.AIS),\n",
    "                                             (H01.UNK_EXC_INH_OTHER[3], *H01.SOMA), (H01.UNK_EXC_INH_OTHER[3], *H01.DEND), (H01.UNK_EXC_INH_OTHER[3], *H01.AIS),\n",
    "                                             (H01.UNK_EXC_INH_OTHER[0], *H01.SOMA), (H01.UNK_EXC_INH_OTHER[0], *H01.DEND), (H01.UNK_EXC_INH_OTHER[0], *H01.AIS)], \n",
    "                             value_label_map = {\n",
    "                                 \"pre_celltype_merged\" : H01.CELLTYPE_LABELS,\n",
    "                                 \"post_celltype_merged\" : H01.CELLTYPE_LABELS,\n",
    "                                 \"post_compartment\" : H01.COMPARTMENT_LABELS,\n",
    "                             },\n",
    "                             aggregation_fn=\"mean\",\n",
    "                             default_value=1)\n",
    "matrix_analyzer.render_matrix(\"H01-model-PS-preference_all\", \n",
    "                              colormap_name=\"coolwarm\", vmin=-1, vmax=1, normalization_function=NormalizePreferenceValue(0.5, 4),\n",
    "                              col_separator_lines=True, row_separator_lines=True)"
   ]
  },
  {
   "cell_type": "markdown",
   "metadata": {},
   "source": [
    "#### Synapse clusters"
   ]
  },
  {
   "cell_type": "code",
   "execution_count": null,
   "metadata": {},
   "outputs": [],
   "source": [
    "dataset_labels = [STR_EMPIRICAL, STR_NULL, STR_PS, STR_PSC]\n",
    "\n",
    "datasets = [stats.to_numpy(SELECTION_CLUSTER_6, EMPIRICAL), \n",
    "            stats.to_numpy(SELECTION_CLUSTER_6, MODEL_NULL),\n",
    "            stats.to_numpy(SELECTION_CLUSTER_6, MODEL_PS),\n",
    "            stats.to_numpy(SELECTION_CLUSTER_6, MODEL_PSCb)[-4000:,:]]\n",
    "\n",
    "labels = [l.split(\"-\")[1] for l in SELECTION_CLUSTER_6]\n",
    "        \n",
    "filename = plot_folder/f\"H01_{MODEL_PSC}_{SYNCLUSTERS}.png\"\n",
    "img = plot_line_chart(datasets, x_labels=labels, linestyles=[\".-\",\"x-\",\"x-\",\"x-\"], \n",
    "                      capsize=2, linewidth=1, marker_size=4,  \n",
    "                      colors=[C_EMPIRICAL, C_H0, C_M1, C_M2], y_lim=(-0.1, 10**5), x_lim=(-0.25,6.25),       \n",
    "    dataset_labels=None, error_bars=True, use_log=True, hline_y=None,  adjust_left=0.15, adjust_bottom=0.15, fig_size=figsize_mm_to_inch(70,60), filename=filename)\n",
    "display(img)"
   ]
  },
  {
   "cell_type": "markdown",
   "metadata": {},
   "source": [
    "#### Triplet motifs"
   ]
  },
  {
   "cell_type": "code",
   "execution_count": null,
   "metadata": {},
   "outputs": [],
   "source": [
    "dataset_labels = [STR_EMPIRICAL, STR_NULL, STR_PS, STR_PSCb]\n",
    "\n",
    "print(stats.to_numpy(SELECTION_MOTIF, MODEL_NULL).shape)\n",
    "\n",
    "datasets = [stats.to_numpy(SELECTION_MOTIF, EMPIRICAL), \n",
    "            stats.to_numpy(SELECTION_MOTIF, MODEL_NULL),\n",
    "            np.atleast_2d(stats.to_numpy(SELECTION_MOTIF, MODEL_PS)),\n",
    "            np.atleast_2d(stats.to_numpy(SELECTION_MOTIF, MODEL_PSCb))]\n",
    "\n",
    "filename = plot_folder/f\"H01_{MOTIFS}.png\"\n",
    "img = plot_motifs_bar_chart(datasets, \n",
    "    colors = [C_EMPIRICAL, C_H0, C_M1, C_M2],\n",
    "    selected_motifs=(2,3,4,5,6,7,8,9,10,11,12,13,14,15,16),\n",
    "    dataset_labels=dataset_labels, quantile_low=25, quantile_high=75,\n",
    "    use_mean=False, marker_size=4, capsize=0, y_axis_label=\"occurrences relative to random\",\n",
    "    error_bars=True, y_lim=(-0.5,10**3), use_log=True, fig_size=figsize_mm_to_inch(160,50), adjust_left=0.07, filename=filename)\n",
    "display(img)"
   ]
  }
 ],
 "metadata": {
  "kernelspec": {
   "display_name": "wiring-specificity",
   "language": "python",
   "name": "python3"
  },
  "language_info": {
   "codemirror_mode": {
    "name": "ipython",
    "version": 3
   },
   "file_extension": ".py",
   "mimetype": "text/x-python",
   "name": "python",
   "nbconvert_exporter": "python",
   "pygments_lexer": "ipython3",
   "version": "3.11.11"
  }
 },
 "nbformat": 4,
 "nbformat_minor": 2
}
