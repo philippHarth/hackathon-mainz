{
 "cells": [
  {
   "cell_type": "code",
   "execution_count": 1,
   "metadata": {},
   "outputs": [],
   "source": [
    "#import cudf\n",
    "import pandas as pd\n",
    "import numpy as np\n",
    "from pathlib import Path"
   ]
  },
  {
   "cell_type": "code",
   "execution_count": 2,
   "metadata": {},
   "outputs": [],
   "source": [
    "data_folder = Path.cwd() / \"data\" / \"FLY\"\n",
    "plot_folder = data_folder / \"visualization\"\n",
    "plot_folder.mkdir(parents=True, exist_ok=True)\n",
    "\n",
    "synapses_file = data_folder / \"synapses_flat_v783.csv\"\n",
    "synapses_file_curated = data_folder / \"synapses_flat_v783_ext.csv\"\n",
    "soma_file = data_folder / \"meta\" / \"soma.csv\"\n",
    "\n",
    "grid_size =  25000 # 50000 25000\n",
    "grid_size_descriptor = f\"grid-{grid_size}\""
   ]
  },
  {
   "cell_type": "code",
   "execution_count": null,
   "metadata": {},
   "outputs": [],
   "source": [
    "def curate_annotate_synapses(filename_in, filename_out):\n",
    "\n",
    "    def replace_empty_with_zero(value):\n",
    "        return \"0\" if value == \"\" else value\n",
    "\n",
    "    with open(filename_in, \"r\") as f_in, open(filename_out, \"w\") as f_out:\n",
    "        for line in f_in:\n",
    "            parts = line.split(\",\")\n",
    "            parts[0] = replace_empty_with_zero(parts[0])\n",
    "            parts[1] = replace_empty_with_zero(parts[1])\n",
    "            f_out.write(\",\".join(parts))"
   ]
  },
  {
   "cell_type": "code",
   "execution_count": null,
   "metadata": {},
   "outputs": [],
   "source": [
    "# curate_annotate_synapses(synapses_file, synapses_file_curated)"
   ]
  },
  {
   "cell_type": "code",
   "execution_count": 3,
   "metadata": {},
   "outputs": [
    {
     "data": {
      "text/html": [
       "<div>\n",
       "<style scoped>\n",
       "    .dataframe tbody tr th:only-of-type {\n",
       "        vertical-align: middle;\n",
       "    }\n",
       "\n",
       "    .dataframe tbody tr th {\n",
       "        vertical-align: top;\n",
       "    }\n",
       "\n",
       "    .dataframe thead th {\n",
       "        text-align: right;\n",
       "    }\n",
       "</style>\n",
       "<table border=\"1\" class=\"dataframe\">\n",
       "  <thead>\n",
       "    <tr style=\"text-align: right;\">\n",
       "      <th></th>\n",
       "      <th>pre_root_id</th>\n",
       "      <th>post_root_id</th>\n",
       "      <th>x</th>\n",
       "      <th>y</th>\n",
       "      <th>z</th>\n",
       "    </tr>\n",
       "  </thead>\n",
       "  <tbody>\n",
       "    <tr>\n",
       "      <th>0</th>\n",
       "      <td>720575940596125868</td>\n",
       "      <td>720575940608552405</td>\n",
       "      <td>705988</td>\n",
       "      <td>275676</td>\n",
       "      <td>221800</td>\n",
       "    </tr>\n",
       "    <tr>\n",
       "      <th>1</th>\n",
       "      <td>0</td>\n",
       "      <td>0</td>\n",
       "      <td>706908</td>\n",
       "      <td>275084</td>\n",
       "      <td>222160</td>\n",
       "    </tr>\n",
       "    <tr>\n",
       "      <th>2</th>\n",
       "      <td>0</td>\n",
       "      <td>0</td>\n",
       "      <td>707848</td>\n",
       "      <td>275456</td>\n",
       "      <td>222100</td>\n",
       "    </tr>\n",
       "    <tr>\n",
       "      <th>3</th>\n",
       "      <td>0</td>\n",
       "      <td>0</td>\n",
       "      <td>708050</td>\n",
       "      <td>275176</td>\n",
       "      <td>222200</td>\n",
       "    </tr>\n",
       "    <tr>\n",
       "      <th>4</th>\n",
       "      <td>0</td>\n",
       "      <td>0</td>\n",
       "      <td>711344</td>\n",
       "      <td>267664</td>\n",
       "      <td>223360</td>\n",
       "    </tr>\n",
       "    <tr>\n",
       "      <th>...</th>\n",
       "      <td>...</td>\n",
       "      <td>...</td>\n",
       "      <td>...</td>\n",
       "      <td>...</td>\n",
       "      <td>...</td>\n",
       "    </tr>\n",
       "    <tr>\n",
       "      <th>34156315</th>\n",
       "      <td>0</td>\n",
       "      <td>0</td>\n",
       "      <td>436160</td>\n",
       "      <td>163856</td>\n",
       "      <td>81040</td>\n",
       "    </tr>\n",
       "    <tr>\n",
       "      <th>34156316</th>\n",
       "      <td>0</td>\n",
       "      <td>0</td>\n",
       "      <td>436370</td>\n",
       "      <td>165082</td>\n",
       "      <td>78360</td>\n",
       "    </tr>\n",
       "    <tr>\n",
       "      <th>34156317</th>\n",
       "      <td>0</td>\n",
       "      <td>0</td>\n",
       "      <td>438644</td>\n",
       "      <td>167636</td>\n",
       "      <td>77860</td>\n",
       "    </tr>\n",
       "    <tr>\n",
       "      <th>34156318</th>\n",
       "      <td>0</td>\n",
       "      <td>0</td>\n",
       "      <td>442126</td>\n",
       "      <td>167062</td>\n",
       "      <td>78700</td>\n",
       "    </tr>\n",
       "    <tr>\n",
       "      <th>34156319</th>\n",
       "      <td>0</td>\n",
       "      <td>0</td>\n",
       "      <td>444428</td>\n",
       "      <td>168448</td>\n",
       "      <td>80560</td>\n",
       "    </tr>\n",
       "  </tbody>\n",
       "</table>\n",
       "<p>34156320 rows × 5 columns</p>\n",
       "</div>"
      ],
      "text/plain": [
       "                 pre_root_id        post_root_id       x       y       z\n",
       "0         720575940596125868  720575940608552405  705988  275676  221800\n",
       "1                          0                   0  706908  275084  222160\n",
       "2                          0                   0  707848  275456  222100\n",
       "3                          0                   0  708050  275176  222200\n",
       "4                          0                   0  711344  267664  223360\n",
       "...                      ...                 ...     ...     ...     ...\n",
       "34156315                   0                   0  436160  163856   81040\n",
       "34156316                   0                   0  436370  165082   78360\n",
       "34156317                   0                   0  438644  167636   77860\n",
       "34156318                   0                   0  442126  167062   78700\n",
       "34156319                   0                   0  444428  168448   80560\n",
       "\n",
       "[34156320 rows x 5 columns]"
      ]
     },
     "execution_count": 3,
     "metadata": {},
     "output_type": "execute_result"
    }
   ],
   "source": [
    "synapses_df = pd.read_csv(synapses_file_curated, dtype={\n",
    "    \"x\": \"uint32\", \n",
    "    \"y\": \"uint32\", \n",
    "    \"z\": \"uint32\",     \n",
    "    \"pre_root_id\": \"uint64\", \n",
    "    \"post_root_id\": \"uint64\"\n",
    "})\n",
    "synapses_df"
   ]
  },
  {
   "cell_type": "code",
   "execution_count": null,
   "metadata": {},
   "outputs": [],
   "source": [
    "soma_df = pd.read_csv(soma_file, dtype={\n",
    "    \"neuron_id\" : \"uint64\",\n",
    "    \"neuron_id_mapped\" : \"int16\", \n",
    "}, usecols=[\"neuron_id\", \"neuron_id_mapped\"])\n",
    "\n",
    "mapping_dict = {np.uint64(row.neuron_id): np.int16(row.neuron_id_mapped - 1000) for row in soma_df.itertuples(index=False)}"
   ]
  },
  {
   "cell_type": "code",
   "execution_count": null,
   "metadata": {},
   "outputs": [],
   "source": [
    "soma_df"
   ]
  },
  {
   "cell_type": "code",
   "execution_count": null,
   "metadata": {},
   "outputs": [],
   "source": [
    "synapses_df.groupby([\"pre_celltype\", \"post_celltype\"]).size()"
   ]
  },
  {
   "cell_type": "code",
   "execution_count": 5,
   "metadata": {},
   "outputs": [],
   "source": [
    "synapses_df[\"pre_id_mapped\"] = pd.Series(-1 * np.ones(len(synapses_df)), dtype='int16')  # replaced cudf.Series\n",
    "synapses_df[\"post_id_mapped\"] = pd.Series(-1 * np.ones(len(synapses_df)), dtype='int16') # replaced cudf.Series\n",
    "synapses_df[\"overlap_volume\"] = pd.Series(np.zeros(len(synapses_df)), dtype='uint64') # replaced cudf.Series"
   ]
  },
  {
   "cell_type": "code",
   "execution_count": 6,
   "metadata": {},
   "outputs": [],
   "source": [
    "from lib.gridder import Gridder\n",
    "\n",
    "gridder = Gridder()\n",
    "\n",
    "xyz = synapses_df[[\"x\", \"y\", \"z\"]].to_numpy()\n",
    "\n",
    "gridder.setPositions(xyz)\n",
    "indices, df_grid_meta = gridder.computeGrid(grid_size)\n",
    "synapses_df[\"overlap_volume\"] = indices.astype(\"uint64\")"
   ]
  },
  {
   "cell_type": "code",
   "execution_count": 7,
   "metadata": {},
   "outputs": [],
   "source": [
    "df_grid_meta.to_csv(data_folder/f\"{grid_size_descriptor}_meta.csv\", index=False)"
   ]
  },
  {
   "cell_type": "code",
   "execution_count": 8,
   "metadata": {},
   "outputs": [],
   "source": [
    "synapses_df.sample(frac=0.01).to_csv(plot_folder/f\"synapses_{grid_size_descriptor}_1pct.csv\", index=False)"
   ]
  },
  {
   "cell_type": "code",
   "execution_count": null,
   "metadata": {},
   "outputs": [],
   "source": [
    "for neuron_id, mapped_id in mapping_dict.items():\n",
    "    synapses_df.loc[synapses_df.pre_id == neuron_id, \"pre_id_mapped\"] = mapped_id\n",
    "    synapses_df.loc[synapses_df.post_id == neuron_id, \"post_id_mapped\"] = mapped_id"
   ]
  },
  {
   "cell_type": "code",
   "execution_count": null,
   "metadata": {},
   "outputs": [],
   "source": [
    "synapses_mapped_neurons = synapses_df[(synapses_df.pre_id_mapped > -1) | (synapses_df.post_id_mapped > -1)]\n",
    "synapses_mapped_neurons.to_csv(plot_folder/f\"synapses_{grid_size_descriptor}_mapped-neurons.csv\", index=False)\n",
    "synapses_mapped_neurons"
   ]
  },
  {
   "cell_type": "code",
   "execution_count": null,
   "metadata": {},
   "outputs": [],
   "source": [
    "synapses_btw_mapped_neurons = synapses_df[(synapses_df.pre_id_mapped > -1) & (synapses_df.post_id_mapped > -1)]\n",
    "synapses_btw_mapped_neurons.to_csv(plot_folder/f\"synapses_{grid_size_descriptor}_between-mapped-neurons.csv\", index=False)\n",
    "synapses_btw_mapped_neurons"
   ]
  },
  {
   "cell_type": "code",
   "execution_count": null,
   "metadata": {},
   "outputs": [],
   "source": [
    "selected_overlap_volumes = synapses_mapped_neurons.overlap_volume.unique()\n",
    "selected_overlap_volumes.size"
   ]
  },
  {
   "cell_type": "code",
   "execution_count": null,
   "metadata": {},
   "outputs": [],
   "source": [
    "range_filter_enabled = False\n",
    "\n",
    "if(range_filter_enabled):\n",
    "    \n",
    "    offset = 5000\n",
    "\n",
    "    x_min = synapses_mapped_neurons.x.min() - offset\n",
    "    y_min = synapses_mapped_neurons.y.min() - offset\n",
    "    #z_min = synapses_mapped_neurons.z.min() - offset\n",
    "\n",
    "    x_max = synapses_mapped_neurons.x.max() + offset\n",
    "    y_max = synapses_mapped_neurons.y.max() + offset\n",
    "    #z_max = synapses_mapped_neurons.z.max() + offset\n",
    "\n",
    "    df_synapses_range = synapses_df[\n",
    "        #(synapses_df.x >= x_min) & (synapses_df.x <= x_max) &\n",
    "        #(synapses_df.y >= y_min) & (synapses_df.y <= y_max) &\n",
    "        synapses_df.overlap_volume.isin(selected_overlap_volumes)\n",
    "        #(synapses_df.z >= z_min) & (synapses_df.z <= z_max) \n",
    "    ]\n",
    "\n",
    "    df_synapses_range.reset_index(drop=True)\n",
    "\n",
    "else:\n",
    "\n",
    "    df_synapses_range = synapses_df.copy()"
   ]
  },
  {
   "cell_type": "code",
   "execution_count": null,
   "metadata": {},
   "outputs": [],
   "source": [
    "df_synapses_range.to_csv(data_folder/f\"synapses_{grid_size_descriptor}.csv\", index=False) # replaced df_synapses_range.to_pandas().to_csv\n",
    "df_synapses_range.sample(frac=0.10).to_csv(plot_folder/f\"synapses_{grid_size_descriptor}_10pct.csv\", index=False)"
   ]
  },
  {
   "cell_type": "code",
   "execution_count": null,
   "metadata": {},
   "outputs": [],
   "source": [
    "df_synapses_range"
   ]
  },
  {
   "cell_type": "code",
   "execution_count": null,
   "metadata": {},
   "outputs": [],
   "source": [
    "df_synapses_aggregated = df_synapses_range.groupby([\"overlap_volume\", \n",
    "                                                    \"pre_id_mapped\", \n",
    "                                                    \"post_id_mapped\",\n",
    "                                                    \"pre_celltype\", \n",
    "                                                    \"post_celltype\",\n",
    "                                                    \"post_compartment\"]).size().reset_index(name=\"synapse_count\")\n",
    "\n",
    "df_synapses_aggregated.to_csv(data_folder/f\"synapses_{grid_size_descriptor}_aggregated.csv\", index=False) # replaced df_synapses_aggregated.to_pandas().to_csv\n",
    "print(df_synapses_aggregated.synapse_count.sum())\n",
    "df_synapses_aggregated"
   ]
  }
 ],
 "metadata": {
  "kernelspec": {
   "display_name": "hackathon3",
   "language": "python",
   "name": "python3"
  },
  "language_info": {
   "codemirror_mode": {
    "name": "ipython",
    "version": 3
   },
   "file_extension": ".py",
   "mimetype": "text/x-python",
   "name": "python",
   "nbconvert_exporter": "python",
   "pygments_lexer": "ipython3",
   "version": "3.11.11"
  },
  "orig_nbformat": 4
 },
 "nbformat": 4,
 "nbformat_minor": 2
}
