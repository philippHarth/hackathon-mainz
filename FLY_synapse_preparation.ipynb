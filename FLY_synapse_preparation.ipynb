{
 "cells": [
  {
   "cell_type": "code",
   "execution_count": null,
   "metadata": {},
   "outputs": [],
   "source": [
    "#import cudf  (use if you are on linux with a recent Nvidia GPU)\n",
    "import pandas as pd\n",
    "import numpy as np\n",
    "from pathlib import Path"
   ]
  },
  {
   "cell_type": "markdown",
   "metadata": {},
   "source": [
    "### Define local data folder paths \n",
    "\n",
    "Here we use the Flywire reconstruction (v783) that can be downloaded from [https://codex.flywire.ai/api/download](https://codex.flywire.ai/api/download)"
   ]
  },
  {
   "cell_type": "code",
   "execution_count": null,
   "metadata": {},
   "outputs": [],
   "source": [
    "data_folder = Path.cwd() / \"data\" / \"FLY\"\n",
    "meta_folder = data_folder / \"meta\"\n",
    "plot_folder = data_folder / \"visualization\"\n",
    "plot_folder.mkdir(parents=True, exist_ok=True)\n",
    "\n",
    "synapses_file = data_folder / \"synapses_flat_v783.csv\"\n",
    "synapses_file_curated = data_folder / \"synapses_flat_v783_ext.csv\"\n",
    "\n",
    "# Select overlap volume size\n",
    "grid_size =  25000 \n",
    "grid_size_descriptor = f\"grid-{grid_size}\""
   ]
  },
  {
   "cell_type": "markdown",
   "metadata": {},
   "source": [
    "### Select neurons and cell types of interest  "
   ]
  },
  {
   "cell_type": "markdown",
   "metadata": {},
   "source": [
    "Load cell types meta information into dictionaries"
   ]
  },
  {
   "cell_type": "code",
   "execution_count": null,
   "metadata": {},
   "outputs": [],
   "source": [
    "df_celltypes = pd.read_csv(meta_folder/\"cell_types.csv\")\n",
    "df_celltypes['root_id'] = df_celltypes['root_id'].astype(str)\n",
    "celltypes_rootid_typeid = df_celltypes.set_index('root_id')['primary_type_id'].to_dict()\n",
    "celltypes_typeid_name = df_celltypes.set_index('primary_type_id')['primary_type'].to_dict()\n",
    "celltypes_name_typeid = df_celltypes.set_index('primary_type')['primary_type_id'].to_dict()"
   ]
  },
  {
   "cell_type": "markdown",
   "metadata": {},
   "source": [
    "Here we select some neurons and the respective cell types from an optical lobe column"
   ]
  },
  {
   "cell_type": "code",
   "execution_count": null,
   "metadata": {},
   "outputs": [],
   "source": [
    "df_optical_columns = pd.read_csv(meta_folder/\"column_assignment.csv\")\n",
    "column_ids = [628]\n",
    "df_optical_selected = df_optical_columns[df_optical_columns.column_id.isin(column_ids)]\n",
    "\n",
    "enabled_celltypes = set(df_optical_selected.type.values.tolist())\n",
    "enabled_ids = set([str(x) for x in sorted(df_optical_selected.root_id.values.tolist())])"
   ]
  },
  {
   "cell_type": "code",
   "execution_count": null,
   "metadata": {},
   "outputs": [],
   "source": [
    "# enabled_ids"
   ]
  },
  {
   "cell_type": "markdown",
   "metadata": {},
   "source": [
    "Write the selected cells, their zero-index-based neuron IDs, and their cell types to a separate dataframe"
   ]
  },
  {
   "cell_type": "code",
   "execution_count": null,
   "metadata": {},
   "outputs": [],
   "source": [
    "sel_id = []\n",
    "sel_mapped_id = []\n",
    "sel_celltype = []\n",
    "sel_celltype_name = []\n",
    "for mapped_id, orirignal_id in enumerate(sorted(enabled_ids)):\n",
    "    sel_id.append(orirignal_id)\n",
    "    sel_mapped_id.append(mapped_id)\n",
    "    if(orirignal_id in celltypes_rootid_typeid):\n",
    "        celltype_id = celltypes_rootid_typeid[orirignal_id]\n",
    "        sel_celltype.append(celltype_id)\n",
    "        sel_celltype_name.append(celltypes_typeid_name[celltype_id])\n",
    "    else:\n",
    "        sel_celltype.append(-1)\n",
    "        sel_celltype_name.append(\"-1\")\n",
    "\n",
    "df_selected = pd.DataFrame({'root_id': sel_id, 'mapped_id': sel_mapped_id, 'celltype_id': sel_celltype, 'celltype_name': sel_celltype_name})\n",
    "df_selected.to_csv(meta_folder/f\"selected_neurons.csv\", index=False)"
   ]
  },
  {
   "cell_type": "code",
   "execution_count": null,
   "metadata": {},
   "outputs": [],
   "source": [
    "df_selected.head()"
   ]
  },
  {
   "cell_type": "code",
   "execution_count": null,
   "metadata": {},
   "outputs": [],
   "source": [
    "id_mapping = df_selected.set_index('root_id')[\"mapped_id\"].to_dict()\n",
    "#id_mapping"
   ]
  },
  {
   "cell_type": "code",
   "execution_count": null,
   "metadata": {},
   "outputs": [],
   "source": []
  },
  {
   "cell_type": "markdown",
   "metadata": {},
   "source": [
    "Read the raw synapses file, attach meta information (e.g. type labels), set zero-index-based neuron IDs for selected neurons, and assign missing data to -1.  "
   ]
  },
  {
   "cell_type": "code",
   "execution_count": null,
   "metadata": {},
   "outputs": [],
   "source": [
    "def curate_annotate_synapses(filename_in, filename_out, enabled_ct_set, id_mapping):\n",
    "\n",
    "    def get_mapped_id(value):\n",
    "        if(value == \"\"):\n",
    "            return \"-1\"\n",
    "        else:\n",
    "            if(value in id_mapping):\n",
    "                return str(id_mapping[value])\n",
    "            else:\n",
    "                return \"-1\"\n",
    "    \n",
    "    def get_celltype(root_id):\n",
    "        if(root_id in celltypes_rootid_typeid):\n",
    "            celltype_id = celltypes_rootid_typeid[root_id]\n",
    "            celltype_name = celltypes_typeid_name[celltype_id]\n",
    "            if(celltype_name in  enabled_ct_set):\n",
    "                return str(celltype_id)\n",
    "            else:\n",
    "                return \"-1\"\n",
    "        else:\n",
    "            return \"-1\"\n",
    "\n",
    "    with open(filename_in, \"r\") as f_in, open(filename_out, \"w\") as f_out:\n",
    "        linecount = 0\n",
    "        for line in f_in:\n",
    "            if(linecount == 0):\n",
    "                f_out.write(\"x,y,z,pre_id_mapped,post_id_mapped,pre_celltype,post_celltype\\n\")\n",
    "                linecount += 1\n",
    "                continue\n",
    "\n",
    "            parts = line.rstrip().split(\",\")\n",
    "            pre_id = get_mapped_id(parts[0])\n",
    "            post_id = get_mapped_id(parts[1])\n",
    "            x = parts[2]\n",
    "            y = parts[3]\n",
    "            z = parts[4]\n",
    "\n",
    "            pre_celltype = get_celltype(parts[0])\n",
    "            post_celltype = get_celltype(parts[1])\n",
    "            \n",
    "            parts_new = [x, y, z, pre_id, post_id, pre_celltype, post_celltype]\n",
    "            #print(parts_new)\n",
    "            f_out.write(\",\".join(parts_new) + \"\\n\")\n",
    "\n",
    "            #if(linecount == 1000):\n",
    "            #    break\n",
    "            linecount += 1"
   ]
  },
  {
   "cell_type": "code",
   "execution_count": null,
   "metadata": {},
   "outputs": [],
   "source": [
    "curate_annotate_synapses(synapses_file, synapses_file_curated, enabled_celltypes, id_mapping)"
   ]
  },
  {
   "cell_type": "markdown",
   "metadata": {},
   "source": [
    "### Apply local overlap volumes "
   ]
  },
  {
   "cell_type": "code",
   "execution_count": null,
   "metadata": {},
   "outputs": [],
   "source": [
    "synapses_df = pd.read_csv(synapses_file_curated, dtype={\n",
    "    \"x\": \"uint32\", \n",
    "    \"y\": \"uint32\", \n",
    "    \"z\": \"uint32\",     \n",
    "    \"pre_id\": \"int32\", \n",
    "    \"post_id\": \"int32\",\n",
    "    \"pre_celltype\": \"int32\", \n",
    "    \"post_celltype\": \"int32\",\n",
    "})\n",
    "synapses_df"
   ]
  },
  {
   "cell_type": "code",
   "execution_count": null,
   "metadata": {},
   "outputs": [],
   "source": [
    "# synapses_df[\"pre_id_mapped\"] = pd.Series(-1 * np.ones(len(synapses_df)), dtype='int16')  # replaced cudf.Series\n",
    "# synapses_df[\"post_id_mapped\"] = pd.Series(-1 * np.ones(len(synapses_df)), dtype='int16') # replaced cudf.Series\n",
    "synapses_df[\"overlap_volume\"] = pd.Series(np.zeros(len(synapses_df)), dtype='uint64') # replaced cudf.Series"
   ]
  },
  {
   "cell_type": "code",
   "execution_count": null,
   "metadata": {},
   "outputs": [],
   "source": [
    "from lib.gridder import Gridder\n",
    "\n",
    "gridder = Gridder()\n",
    "\n",
    "xyz = synapses_df[[\"x\", \"y\", \"z\"]].to_numpy()\n",
    "\n",
    "gridder.setPositions(xyz)\n",
    "indices, df_grid_meta = gridder.computeGrid(grid_size)\n",
    "synapses_df[\"overlap_volume\"] = indices.astype(\"uint64\")"
   ]
  },
  {
   "cell_type": "code",
   "execution_count": null,
   "metadata": {},
   "outputs": [],
   "source": [
    "df_grid_meta.to_csv(data_folder/f\"{grid_size_descriptor}_meta.csv\", index=False)"
   ]
  },
  {
   "cell_type": "code",
   "execution_count": null,
   "metadata": {},
   "outputs": [],
   "source": [
    "synapses_df.sample(frac=0.05).to_csv(plot_folder/f\"synapses_{grid_size_descriptor}_5pct.csv\", index=False)"
   ]
  },
  {
   "cell_type": "code",
   "execution_count": null,
   "metadata": {},
   "outputs": [],
   "source": [
    "#for neuron_id, mapped_id in mapping_dict.items():\n",
    "#    synapses_df.loc[synapses_df.pre_id == neuron_id, \"pre_id_mapped\"] = mapped_id\n",
    "#    synapses_df.loc[synapses_df.post_id == neuron_id, \"post_id_mapped\"] = mapped_id"
   ]
  },
  {
   "cell_type": "code",
   "execution_count": null,
   "metadata": {},
   "outputs": [],
   "source": [
    "synapses_mapped_neurons = synapses_df[(synapses_df.pre_id_mapped > -1) | (synapses_df.post_id_mapped > -1)]\n",
    "synapses_mapped_neurons.to_csv(plot_folder/f\"synapses_{grid_size_descriptor}_mapped-neurons.csv\", index=False)\n",
    "synapses_mapped_neurons"
   ]
  },
  {
   "cell_type": "code",
   "execution_count": null,
   "metadata": {},
   "outputs": [],
   "source": [
    "synapses_btw_mapped_neurons = synapses_df[(synapses_df.pre_id_mapped > -1) & (synapses_df.post_id_mapped > -1)]\n",
    "synapses_btw_mapped_neurons.to_csv(plot_folder/f\"synapses_{grid_size_descriptor}_between-mapped-neurons.csv\", index=False)\n",
    "synapses_btw_mapped_neurons"
   ]
  },
  {
   "cell_type": "code",
   "execution_count": null,
   "metadata": {},
   "outputs": [],
   "source": [
    "selected_overlap_volumes = synapses_mapped_neurons.overlap_volume.unique()\n",
    "selected_overlap_volumes.size"
   ]
  },
  {
   "cell_type": "code",
   "execution_count": null,
   "metadata": {},
   "outputs": [],
   "source": [
    "range_filter_enabled = False\n",
    "\n",
    "if(range_filter_enabled):\n",
    "    \n",
    "    offset = 5000\n",
    "\n",
    "    x_min = synapses_mapped_neurons.x.min() - offset\n",
    "    y_min = synapses_mapped_neurons.y.min() - offset\n",
    "    #z_min = synapses_mapped_neurons.z.min() - offset\n",
    "\n",
    "    x_max = synapses_mapped_neurons.x.max() + offset\n",
    "    y_max = synapses_mapped_neurons.y.max() + offset\n",
    "    #z_max = synapses_mapped_neurons.z.max() + offset\n",
    "\n",
    "    df_synapses_range = synapses_df[\n",
    "        #(synapses_df.x >= x_min) & (synapses_df.x <= x_max) &\n",
    "        #(synapses_df.y >= y_min) & (synapses_df.y <= y_max) &\n",
    "        synapses_df.overlap_volume.isin(selected_overlap_volumes)\n",
    "        #(synapses_df.z >= z_min) & (synapses_df.z <= z_max) \n",
    "    ]\n",
    "\n",
    "    df_synapses_range.reset_index(drop=True)\n",
    "\n",
    "else:\n",
    "\n",
    "    df_synapses_range = synapses_df.copy()"
   ]
  },
  {
   "cell_type": "code",
   "execution_count": null,
   "metadata": {},
   "outputs": [],
   "source": [
    "df_synapses_range.to_csv(data_folder/f\"synapses_{grid_size_descriptor}.csv\", index=False) # replaced df_synapses_range.to_pandas().to_csv\n",
    "df_synapses_range.sample(frac=0.05).to_csv(plot_folder/f\"synapses_{grid_size_descriptor}_5pct.csv\", index=False)"
   ]
  },
  {
   "cell_type": "code",
   "execution_count": null,
   "metadata": {},
   "outputs": [],
   "source": [
    "df_synapses_range"
   ]
  },
  {
   "cell_type": "code",
   "execution_count": null,
   "metadata": {},
   "outputs": [],
   "source": [
    "df_synapses_aggregated = df_synapses_range.groupby([\"overlap_volume\", \n",
    "                                                    \"pre_id_mapped\", \n",
    "                                                    \"post_id_mapped\",\n",
    "                                                    \"pre_celltype\", \n",
    "                                                    \"post_celltype\"]).size().reset_index(name=\"synapse_count\")\n",
    "\n",
    "df_synapses_aggregated.to_csv(data_folder/f\"synapses_{grid_size_descriptor}_aggregated.csv\", index=False) # replaced df_synapses_aggregated.to_pandas().to_csv\n",
    "print(df_synapses_aggregated.synapse_count.sum())\n",
    "df_synapses_aggregated"
   ]
  }
 ],
 "metadata": {
  "kernelspec": {
   "display_name": "Python 3",
   "language": "python",
   "name": "python3"
  },
  "language_info": {
   "codemirror_mode": {
    "name": "ipython",
    "version": 3
   },
   "file_extension": ".py",
   "mimetype": "text/x-python",
   "name": "python",
   "nbconvert_exporter": "python",
   "pygments_lexer": "ipython3",
   "version": "3.11.11"
  },
  "orig_nbformat": 4
 },
 "nbformat": 4,
 "nbformat_minor": 2
}
