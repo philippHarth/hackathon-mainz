{
 "cells": [
  {
   "cell_type": "code",
   "execution_count": null,
   "metadata": {},
   "outputs": [],
   "source": [
    "import pandas as pd\n",
    "import numpy as np\n",
    "from pathlib import Path\n",
    "import matplotlib.pyplot as plt\n",
    "import seaborn as sns\n",
    "from IPython.display import display\n",
    "\n",
    "from lib.constants import *\n",
    "from lib.nodelink_viewer import *\n",
    "import lib.VIS_L23_preprocessing.vis_L23_constants as VIS\n",
    "from lib.pandas_compute import *\n",
    "from lib.matrix_analyzer import *\n",
    "from lib.multilevel_analysis import *\n",
    "from lib.pandas_impl import *\n",
    "from lib.pandas_stats_VIS import *"
   ]
  },
  {
   "cell_type": "code",
   "execution_count": null,
   "metadata": {},
   "outputs": [],
   "source": [
    "eval_folder = Path.cwd() / 'data' / 'eval' / 'VIS_24-09-13_5mu'\n",
    "meta_folder = Path.cwd() / 'data' / 'VIS'/ 'meta'\n",
    "plot_folder = eval_folder / 'plots' \n",
    "plot_folder_nodelink = plot_folder / 'nodelink'\n",
    "plot_folder_nodelink.mkdir(exist_ok=True, parents=True)\n",
    "\n",
    "vmin = -0.1\n",
    "vmax = 0.2"
   ]
  },
  {
   "cell_type": "markdown",
   "metadata": {},
   "source": [
    "#### Data preparation"
   ]
  },
  {
   "cell_type": "code",
   "execution_count": null,
   "metadata": {},
   "outputs": [],
   "source": [
    "filename = eval_folder / \"multilevel_analysis.pkl\"\n",
    "with open(filename, 'rb') as file:\n",
    "    multilevel_analysis = pickle.load(file)\n",
    "df_summary = multilevel_analysis.df_summary.reset_index()\n",
    "\n",
    "df_summary.set_index(['pre_celltype', 'post_celltype', 'pre_id_mapped', 'post_id_mapped',\n",
    "       'post_compartment', 'overlap_volume', 'post_celltype_merged',\n",
    "       'pre_celltype_merged'], inplace=True)"
   ]
  },
  {
   "cell_type": "code",
   "execution_count": null,
   "metadata": {},
   "outputs": [],
   "source": [
    "compute_delta_syncount(df_summary, EMPIRICAL, MODEL_NULL)\n",
    "compute_delta_syncount(df_summary, EMPIRICAL, MODEL_P_disaggregated)\n",
    "compute_delta_syncount(df_summary, EMPIRICAL, MODEL_PS_disaggregated)\n",
    "compute_delta_syncount(df_summary, EMPIRICAL, MODEL_PSCb)\n",
    "compute_delta_syncount(df_summary, MODEL_NULL, MODEL_PS_disaggregated)\n",
    "\n",
    "df_filtered = df_summary[(df_summary.index.get_level_values(\"pre_id_mapped\") >= 0) & (df_summary.index.get_level_values(\"post_id_mapped\") >= 0)]\n",
    "df_filtered.shape"
   ]
  },
  {
   "cell_type": "code",
   "execution_count": null,
   "metadata": {},
   "outputs": [],
   "source": [
    "selected_models = [MODEL_NULL, MODEL_P, MODEL_P_disaggregated, MODEL_Pa, MODEL_PS, MODEL_PS_disaggregated, MODEL_PSa, MODEL_PSCa, MODEL_PSCb]\n",
    "df_cellular = get_df_cellular(df_filtered, selected_models, separate_compartment=True)"
   ]
  },
  {
   "cell_type": "code",
   "execution_count": null,
   "metadata": {},
   "outputs": [],
   "source": [
    "df_cellular.reset_index(inplace=True)   \n",
    "\n",
    "mask_exc_pre = df_cellular.pre_celltype == VIS.EXC_INH[0]\n",
    "mask_exc_post = df_cellular.post_celltype == VIS.EXC_INH[0]\n",
    "mask_inh_pre = df_cellular.pre_celltype.isin(VIS.INH)\n",
    "mask_inh_post = df_cellular.post_celltype.isin(VIS.INH)\n",
    "mask_soma = df_cellular.post_compartment == VIS.SOMA[0]\n",
    "mask_dend = df_cellular.post_compartment == VIS.DEND[0]\n",
    "mask_ais = df_cellular.post_compartment == VIS.AIS[0] \n",
    "\n",
    "df_any_exc_soma = df_cellular[mask_exc_post & mask_soma]\n",
    "df_any_exc_dend = df_cellular[mask_exc_post & mask_dend]\n",
    "df_any_exc_ais = df_cellular[mask_exc_post & mask_ais]\n",
    "df_any_inh_soma = df_cellular[mask_inh_post & mask_soma]\n",
    "df_any_inh_dend = df_cellular[mask_inh_post & mask_dend]\n",
    "df_any_inh_ais = df_cellular[mask_inh_post & mask_ais]\n",
    "\n",
    "df_exc_exc_soma = df_cellular[mask_exc_pre & mask_exc_post & mask_soma]\n",
    "df_exc_exc_dend = df_cellular[mask_exc_pre & mask_exc_post & mask_dend]\n",
    "df_exc_exc_ais = df_cellular[mask_exc_pre & mask_exc_post & mask_ais]\n",
    "df_inh_exc_soma = df_cellular[mask_inh_pre & mask_exc_post & mask_soma]\n",
    "df_inh_exc_dend = df_cellular[mask_inh_pre & mask_exc_post & mask_dend]\n",
    "df_inh_exc_ais = df_cellular[mask_inh_pre & mask_exc_post & mask_ais]\n",
    "\n",
    "df_exc_inh_soma = df_cellular[mask_exc_pre & mask_inh_post & mask_soma]\n",
    "df_exc_inh_dend = df_cellular[mask_exc_pre & mask_inh_post & mask_dend]\n",
    "df_exc_inh_ais = df_cellular[mask_exc_pre & mask_inh_post & mask_ais]\n",
    "df_inh_inh_soma = df_cellular[mask_inh_pre & mask_inh_post & mask_soma]\n",
    "df_inh_inh_dend = df_cellular[mask_inh_pre & mask_inh_post & mask_dend]\n",
    "df_inh_inh_ais = df_cellular[mask_inh_pre & mask_inh_post & mask_ais]"
   ]
  },
  {
   "cell_type": "markdown",
   "metadata": {},
   "source": [
    "#### Save empirical connectivity stats by cell type to csv"
   ]
  },
  {
   "cell_type": "code",
   "execution_count": null,
   "metadata": {},
   "outputs": [],
   "source": [
    "pre_cells = df_cellular.groupby([\"pre_id_mapped\", \"pre_celltype\", \"post_compartment\"]).agg({\"empirical\" : \"sum\"})\n",
    "min_num_synapses = 1\n",
    "pre_cells_filtered = pre_cells[pre_cells.empirical >= min_num_synapses].reset_index()\n",
    "pre_cells_filtered.groupby([\"pre_celltype\", \"post_compartment\"]).agg({\"empirical\" : \"sum\"}).to_csv(meta_folder/\"prect_postcompartment.csv\")\n",
    "\n",
    "pre_cells_filtered[pre_cells_filtered.pre_celltype != 1].to_csv(meta_folder/\"preid_prect_postcompartment.csv\", index=False)"
   ]
  },
  {
   "cell_type": "markdown",
   "metadata": {},
   "source": [
    "### Plot change in probability distributions"
   ]
  },
  {
   "cell_type": "code",
   "execution_count": null,
   "metadata": {},
   "outputs": [],
   "source": [
    "def get_plot_values(df, model_descriptor, only_connected=True):\n",
    "    mask = np.ones(len(df), dtype=bool)\n",
    "    if(only_connected):\n",
    "        mask = df[EMPIRICAL] != 0\n",
    "    return df.loc[mask, f\"{model_descriptor}_observation_probability\"].values"
   ]
  },
  {
   "cell_type": "code",
   "execution_count": null,
   "metadata": {},
   "outputs": [],
   "source": [
    "from lib.util_plot import *\n",
    "\n",
    "initPlotSettings(spines_top_right=True)\n",
    "\n",
    "fig, axes = plt.subplots(2, 3, figsize=figsize_mm_to_inch(160, 70))\n",
    "\n",
    "model_1 = MODEL_NULL\n",
    "model_2 = MODEL_PSCb #MODEL_PS_disaggregated\n",
    "model_1_descriptor = STR_NULL\n",
    "model_2_descriptor = STR_PS\n",
    "\n",
    "color1 = \"grey\"\n",
    "color2 = \"orange\"\n",
    "alpha = 0.6\n",
    "num_bins = 20\n",
    "\n",
    "sns.histplot(get_plot_values(df_any_exc_soma, model_1), ax=axes[0, 0], color=color1, kde=True, stat='density', alpha=alpha, bins=num_bins, binrange=(0, 1), label=model_1_descriptor) \n",
    "sns.histplot(get_plot_values(df_any_exc_soma, model_2), ax=axes[0, 0], color=color2, kde=True, stat='density', alpha=alpha, bins=num_bins, binrange=(0, 1), label=model_2_descriptor)\n",
    "axes[0, 0].set_xlim(0, 1)\n",
    "axes[0, 0].set_ylabel(\"density\")\n",
    "axes[0, 0].set_title(r\"$E,I\\rightarrow E_S$\")\n",
    "axes[0, 0].legend()\n",
    "\n",
    "sns.histplot(get_plot_values(df_any_exc_dend, model_1), ax=axes[0, 1], color=color1, kde=True, stat='density', alpha=alpha, bins=num_bins, binrange=(0, 1))\n",
    "sns.histplot(get_plot_values(df_any_exc_dend, model_2), ax=axes[0, 1], color=color2, kde=True, stat='density', alpha=alpha, bins=num_bins, binrange=(0, 1))\n",
    "axes[0, 1].set_xlim(0, 1)\n",
    "axes[0, 1].set_ylabel(None)\n",
    "axes[0, 1].set_title(r\"$E,I\\rightarrow E_D$\")\n",
    "\n",
    "sns.histplot(get_plot_values(df_any_exc_ais, model_1), ax=axes[0, 2], color=color1, kde=True, stat='density', alpha=alpha, bins= 2 * num_bins, binrange=(0, 1))\n",
    "sns.histplot(get_plot_values(df_any_exc_ais, model_2), ax=axes[0, 2], color=color2, kde=True, stat='density', alpha=alpha, bins=num_bins, binrange=(0, 1))\n",
    "axes[0, 2].set_xlim(0, 1)\n",
    "axes[0, 2].set_ylim(0, 5)\n",
    "axes[0, 2].set_ylabel(None)\n",
    "axes[0, 2].set_title(r\"$E,I\\rightarrow E_A$\")\n",
    "\n",
    "sns.histplot(get_plot_values(df_any_inh_soma, model_1), ax=axes[1, 0], color=color1, kde=True, stat='density', alpha=alpha, bins=num_bins, binrange=(0, 1))\n",
    "sns.histplot(get_plot_values(df_any_inh_soma, model_2), ax=axes[1, 0], color=color2, kde=True, stat='density', alpha=alpha, bins=num_bins, binrange=(0, 1))\n",
    "axes[1, 0].set_xlim(0, 1)\n",
    "axes[1, 0].set_xlabel(r\"$p_{connected\\,in\\,model\\;|\\;empirically\\,observed}$\")\n",
    "axes[1, 0].set_ylabel(\"density\")\n",
    "axes[1, 0].set_title(r\"$E,I\\rightarrow I_S$\")\n",
    "\n",
    "sns.histplot(get_plot_values(df_any_inh_dend, model_1), ax=axes[1, 1], color=color1, kde=True, stat='density', alpha=alpha, bins=num_bins, binrange=(0, 1))\n",
    "sns.histplot(get_plot_values(df_any_inh_dend, model_2), ax=axes[1, 1], color=color2, kde=True, stat='density', alpha=alpha, bins=num_bins, binrange=(0, 1))\n",
    "axes[1, 1].set_xlim(0, 1)\n",
    "axes[1, 1].set_xlabel(r\"$p_{connected\\,in\\,model\\;|\\;empirically\\,observed}$\")\n",
    "axes[1, 1].set_ylabel(None)\n",
    "axes[1, 1].set_title(r\"$E,I\\rightarrow I_D$\")\n",
    "\n",
    "# zoomed-in subplot for exc-ais\n",
    "sns.histplot(get_plot_values(df_any_exc_ais, model_1), ax=axes[1, 2], color=color1, kde=True, stat='density', alpha=alpha, bins= 2 * num_bins, binrange=(0, 0.1))\n",
    "axes[1, 2].set_xlim(0, 0.2)\n",
    "axes[1, 2].set_xlabel(r\"$p_{connected\\,in\\,model\\;|\\;empirically\\,observed}$\")\n",
    "axes[1, 2].set_ylabel(None)\n",
    "axes[1, 2].set_title(r\"$E,I\\rightarrow E_A$ (zoomed-in view)\")\n",
    "\n",
    "\n",
    "zoom_xrange = (0.0, 0.2)  # Example range corresponding to the bottom right zoomed-in subplot\n",
    "\n",
    "# Draw lines connecting the top right and bottom right subplots\n",
    "# Top right subplot coordinates\n",
    "x_start_top = zoom_xrange[0]\n",
    "x_end_top = zoom_xrange[1]\n",
    "\n",
    "y_top = axes[0, 2].get_ylim()[1]  # Top of the plot area\n",
    "\n",
    "# Bottom right subplot coordinates\n",
    "y_bottom = axes[1, 2].get_ylim()[0]  # Bottom of the plot area\n",
    "\n",
    "# Draw lines from top right to bottom right\n",
    "#axes[0, 2].plot([x_start_top, x_start_top], [0, y_top], color='black', linestyle='--', lw=0.7, dashes=(2, 3))   \n",
    "axes[0, 2].plot([x_end_top, x_end_top], [0, y_top], color='black', linestyle='--', lw=0.8, dashes=(3, 2))\n",
    "\n",
    "\n",
    "plt.tight_layout()\n",
    "\n",
    "img = savefig_png_svg(fig, plot_folder / f\"histogram_observation_probability_{model_1}_{model_2}_all_pairs\")\n",
    "\n",
    "display(img)"
   ]
  },
  {
   "cell_type": "markdown",
   "metadata": {},
   "source": [
    "### Node link diagrams (overlapping/connected, loss)"
   ]
  },
  {
   "cell_type": "markdown",
   "metadata": {},
   "source": [
    "Manually select interesting cells"
   ]
  },
  {
   "cell_type": "code",
   "execution_count": null,
   "metadata": {},
   "outputs": [],
   "source": [
    "cells_of_interest = [2, 5, 25, 26, 30, 37, 38, 54, 82, 173, 210, 282, 298, 327, 337, 338, 353, 421]"
   ]
  },
  {
   "cell_type": "code",
   "execution_count": null,
   "metadata": {},
   "outputs": [],
   "source": [
    "pd.set_option('display.max_rows', 10)"
   ]
  },
  {
   "cell_type": "code",
   "execution_count": null,
   "metadata": {},
   "outputs": [],
   "source": [
    "compute_delta_syncount(df_cellular, EMPIRICAL, MODEL_NULL)\n",
    "compute_delta_syncount(df_cellular, EMPIRICAL, MODEL_P_disaggregated)\n",
    "compute_delta_syncount(df_cellular, EMPIRICAL, MODEL_PS_disaggregated)\n",
    "compute_delta_syncount(df_cellular, EMPIRICAL, MODEL_PSCb)\n",
    "compute_delta_syncount(df_cellular, MODEL_NULL, MODEL_PS_disaggregated)\n",
    "compute_delta_syncount(df_cellular, MODEL_P_disaggregated, MODEL_PS_disaggregated)\n",
    "\n",
    "df_cellular_connected = df_cellular[df_cellular[EMPIRICAL] != 0]"
   ]
  },
  {
   "cell_type": "code",
   "execution_count": null,
   "metadata": {},
   "outputs": [],
   "source": [
    "df_selected = df_cellular[(df_cellular.pre_id_mapped == 26)].reset_index(drop=True).copy()\n",
    "df_selected.post_compartment"
   ]
  },
  {
   "cell_type": "markdown",
   "metadata": {},
   "source": [
    "Generate nodelink diagrams"
   ]
  },
  {
   "cell_type": "code",
   "execution_count": null,
   "metadata": {},
   "outputs": [],
   "source": [
    "for selected_pre_id in cells_of_interest:\n",
    "\n",
    "    df_selected_connected = df_cellular_connected[(df_cellular_connected.pre_id_mapped == selected_pre_id)].reset_index(drop=True).copy()\n",
    "    df_selected = df_cellular[(df_cellular.pre_id_mapped == selected_pre_id)].reset_index(drop=True).copy()\n",
    "    \n",
    "    if(selected_pre_id == 26):\n",
    "        id_color = {\n",
    "            selected_pre_id : rgb_to_js_color(COLOR_INH),\n",
    "            408 : rgb_to_js_color(COLOR_EXC),\n",
    "            255 : rgb_to_js_color(COLOR_EXC2)\n",
    "        }\n",
    "    else:\n",
    "        id_color = {}\n",
    "\n",
    "    compute_delta_loss(df_selected_connected, MODEL_NULL, MODEL_PS_disaggregated)\n",
    "    compute_delta_loss(df_selected, MODEL_NULL, MODEL_PS_disaggregated)\n",
    "\n",
    "    delta_loss_stats = df_selected_connected.groupby([\"pre_id_mapped\", \"post_id_mapped\", \"post_compartment\"]).agg({\n",
    "            get_delta_loss_column(MODEL_NULL, MODEL_PS_disaggregated) : \"sum\"\n",
    "        })\n",
    "    loss_mean = delta_loss_stats.describe().loc[\"mean\"].values[0]\n",
    "    loss_std = delta_loss_stats.describe().loc[\"std\"].values[0]\n",
    "    print(f\"neuron id {selected_pre_id}: delta loss sum\", delta_loss_stats[get_delta_loss_column(MODEL_NULL, MODEL_PS_disaggregated)].sum())\n",
    "\n",
    "    df_loss_pairwise = df_selected.groupby([\"pre_id_mapped\", \"post_id_mapped\", \"pre_celltype\", \"post_celltype\"]).agg({\n",
    "        get_delta_loss_column(MODEL_NULL, MODEL_PS_disaggregated) : \"sum\", EMPIRICAL : \"sum\",\n",
    "        get_delta_syncount_column(EMPIRICAL, MODEL_NULL) : \"sum\",\n",
    "        get_delta_syncount_column(MODEL_NULL, MODEL_PS_disaggregated) : \"sum\",\n",
    "        get_delta_syncount_column(MODEL_P_disaggregated, MODEL_PS_disaggregated) : \"sum\"})\n",
    "    df_loss_pairwise.reset_index(inplace=True)  \n",
    "    df_loss_pairwise[\"post_compartment\"] = VIS.DEND[0]  \n",
    "\n",
    "    print(delta_loss_stats.describe())\n",
    "\n",
    "    delta_loss = df_selected_connected[get_delta_loss_column(MODEL_NULL, MODEL_PS_disaggregated)].values\n",
    "\n",
    "    print(\"colorscale min/max\", vmin, vmax)\n",
    "\n",
    "    # node styler \n",
    "    node_styler = PotentialConnectionsNodeStyler(VIS.EXC, VIS.INH, highlighted_colors=id_color)\n",
    "\n",
    "    # delta loss \n",
    "    color_interpolator = ColorInterpolator(cmap_viridis, vmin=vmin, vmax=vmax)\n",
    "    specificity_edge_styler = SpecificityEdgeStyler(VIS.DEND, VIS.SOMA, VIS.AIS, color_interpolator, only_highlighted_multiedge=False, syncount_labels=True)\n",
    "    \n",
    "    color_interpolator_all = ColorInterpolator(cmap_viridis, vmin=vmin, vmax=vmax)  \n",
    "    specificity_edge_styler_all = SpecificityEdgeStyler(VIS.DEND, VIS.SOMA, VIS.AIS, color_interpolator_all, only_highlighted_multiedge=False, syncount_labels=False, compartment_labels=False)\n",
    "\n",
    "    subnetworkVisualization_spec = SubnetworkVisualization(plot_folder_nodelink, node_styler, specificity_edge_styler)\n",
    "    value_column = get_delta_loss_column(MODEL_NULL, MODEL_PS_disaggregated)\n",
    "    subnetworkVisualization_spec.create(f\"{selected_pre_id}_delta_loss\", df_selected_connected, EMPIRICAL, value_column);\n",
    "\n",
    "    subnetworkVisualization_spec_all = SubnetworkVisualization(plot_folder_nodelink, node_styler, specificity_edge_styler_all)\n",
    "    subnetworkVisualization_spec_all.create(f\"{selected_pre_id}_to_all_delta_loss\", df_loss_pairwise, EMPIRICAL, value_column);\n",
    "\n",
    "    # delta synapses  \n",
    "    vmin_syn = -0.2\n",
    "    vmax_syn = 0.2    \n",
    "    syncount_column = get_delta_syncount_column(MODEL_NULL, MODEL_PS_disaggregated)\n",
    "    syncount_column_subcellular = get_delta_syncount_column(MODEL_P_disaggregated, MODEL_PS_disaggregated)\n",
    "\n",
    "    syncount_edge_styler = SpecificityEdgeStyler(VIS.DEND, VIS.SOMA, VIS.AIS, \n",
    "                                                    ColorInterpolator(cmap_coolwarm, vmin=vmin_syn, vmax=vmax_syn), \n",
    "                                                    only_highlighted_multiedge=False, syncount_labels=True)\n",
    "    subnetworkVisualization_syncount = SubnetworkVisualization(plot_folder_nodelink, node_styler, syncount_edge_styler)\n",
    "    subnetworkVisualization_syncount.create(f\"{selected_pre_id}_P-PS_delta_synapses\", df_selected_connected, EMPIRICAL, syncount_column_subcellular);\n",
    "\n",
    "    syncount_edge_styler_all = SpecificityEdgeStyler(VIS.DEND, VIS.SOMA, VIS.AIS, \n",
    "                                                    ColorInterpolator(cmap_coolwarm, vmin=vmin_syn, vmax=vmax_syn), \n",
    "                                                    only_highlighted_multiedge=False, syncount_labels=False, compartment_labels=False)\n",
    "    subnetworkVisualization_syncount = SubnetworkVisualization(plot_folder_nodelink, node_styler, syncount_edge_styler_all)\n",
    "    subnetworkVisualization_syncount.create(f\"{selected_pre_id}_to_all_PS_delta_synapses\", df_loss_pairwise, EMPIRICAL, syncount_column);\n",
    "\n",
    "\n",
    "    # potential connections \n",
    "    potential_edge_styler = PotentialConnectionsEdgeStyler(VIS.DEND, VIS.SOMA, VIS.AIS, syncount_labels=False, compartment_labels=False,\n",
    "                                                only_highlighted_multiedge=False, only_connected_multiedge=True, no_multiedge=True, highlighted_colors=id_color)\n",
    "    \n",
    "    potential_edge_styler_multiedge = PotentialConnectionsEdgeStyler(VIS.DEND, VIS.SOMA, VIS.AIS, syncount_labels=True, compartment_labels=False,\n",
    "                                                only_highlighted_multiedge=False, only_connected_multiedge=True, no_multiedge=False, highlighted_colors=id_color)\n",
    "\n",
    "    subnetworkVisualization_poten = SubnetworkVisualization(plot_folder_nodelink, node_styler, potential_edge_styler)\n",
    "    subnetworkVisualization_poten.create(f\"{selected_pre_id}_potential\", df_selected, EMPIRICAL, None);\n",
    "\n",
    "    subnetworkVisualization_poten = SubnetworkVisualization(plot_folder_nodelink, node_styler, potential_edge_styler_multiedge)\n",
    "    subnetworkVisualization_poten.create(f\"{selected_pre_id}_potential_multiedge\", df_selected_connected, EMPIRICAL, None);\n"
   ]
  },
  {
   "cell_type": "code",
   "execution_count": null,
   "metadata": {},
   "outputs": [],
   "source": [
    "print(plot_folder_nodelink)"
   ]
  },
  {
   "cell_type": "markdown",
   "metadata": {},
   "source": [
    "### Matrix plots"
   ]
  },
  {
   "cell_type": "markdown",
   "metadata": {},
   "source": [
    "#### Prepare data and settings for matrix plots"
   ]
  },
  {
   "cell_type": "code",
   "execution_count": null,
   "metadata": {},
   "outputs": [],
   "source": [
    "pre_ids = set(df_summary.index.get_level_values(\"pre_id_mapped\"))\n",
    "post_ids = set(df_summary.index.get_level_values(\"post_id_mapped\"))\n",
    "all_ids = pre_ids.union(post_ids)\n",
    "all_ids.remove(-1)   \n",
    "no_presynaptic = all_ids - pre_ids\n",
    "\n",
    "#no_presynaptic.remove(248)\n",
    "\n",
    "neuron_domain_pre = get_neuron_to_neuron_domain(df_summary, \"pre_celltype_merged\", \"post_celltype_merged\", \\\n",
    "                                                 celltype_order=[-1, 1, 2], ignored_neuron_ids=no_presynaptic)\n",
    "neuron_domain_post = get_neuron_to_neuron_domain(df_summary, \"pre_celltype_merged\", \"post_celltype_merged\", \\\n",
    "                                                  celltype_order=[-1, 1, 2], ignored_neuron_ids=no_presynaptic)"
   ]
  },
  {
   "cell_type": "code",
   "execution_count": null,
   "metadata": {},
   "outputs": [],
   "source": [
    "initPlotSettings(False)"
   ]
  },
  {
   "cell_type": "code",
   "execution_count": null,
   "metadata": {},
   "outputs": [],
   "source": [
    "row_markers = {\n",
    "    \"pre_id_mapped\" : [26, 255, 408]\n",
    "}\n",
    "col_markers = {\n",
    "    \"post_id_mapped\" : [26, 255, 408]\n",
    "}"
   ]
  },
  {
   "cell_type": "markdown",
   "metadata": {},
   "source": [
    "#### Overlapping/connected"
   ]
  },
  {
   "cell_type": "code",
   "execution_count": null,
   "metadata": {},
   "outputs": [],
   "source": [
    "matrix_analyzer = ConnectomeMatrixAnalyzer(df_summary, plot_folder)\n",
    "matrix_analyzer.set_selection()\n",
    "matrix_analyzer.set_data_columns(EMPIRICAL)\n",
    "matrix_analyzer.build_matrix([\"pre_celltype_merged\", \"pre_id_mapped\"], \n",
    "                             [\"post_celltype_merged\", \"post_id_mapped\"],    \n",
    "                             row_domains = neuron_domain_pre,  \n",
    "                             col_domains = neuron_domain_post,\n",
    "                             value_label_map = {\n",
    "                                 \"pre_celltype_merged\" : VIS.CELLTYPE_LABELS,\n",
    "                                 \"post_celltype_merged\" : VIS.CELLTYPE_LABELS,\n",
    "                             },\n",
    "                             aggregation_fn=\"sum\",\n",
    "                             default_value=-1)\n",
    "matrix_analyzer.colormaps[\"binary\"].set_under(\"white\")\n",
    "matrix_analyzer.render_matrix(\"VIS-overlapping-connected\", \n",
    "                              colormap_name=\"binary\", vmin=-1, vmax=1, normalization_function=None, \n",
    "                              row_markers=row_markers, col_markers=col_markers,\n",
    "                              col_separator_lines=True, row_separator_lines=True, high_res=True)"
   ]
  },
  {
   "cell_type": "markdown",
   "metadata": {},
   "source": [
    "#### Cellular loss matrix"
   ]
  },
  {
   "cell_type": "code",
   "execution_count": null,
   "metadata": {},
   "outputs": [],
   "source": [
    "df_cellular_pairwise = get_df_cellular(df_summary, selected_models, separate_compartment=False, pre_celltype_column=\"pre_celltype_merged\", post_celltype_column=\"post_celltype_merged\")\n",
    "compute_delta_loss(df_cellular_pairwise, MODEL_NULL, MODEL_P_disaggregated)\n",
    "compute_delta_loss(df_cellular_pairwise, MODEL_NULL, MODEL_PS_disaggregated)\n",
    "compute_delta_loss(df_cellular_pairwise, MODEL_NULL, MODEL_PSCb)"
   ]
  },
  {
   "cell_type": "code",
   "execution_count": null,
   "metadata": {},
   "outputs": [],
   "source": [
    "for model_name in [MODEL_P_disaggregated, MODEL_PS_disaggregated, MODEL_PSCb]:\n",
    "\n",
    "    matrix_analyzer = ConnectomeMatrixAnalyzer(df_cellular_pairwise, plot_folder)\n",
    "    matrix_analyzer.set_selection()\n",
    "    matrix_analyzer.set_data_columns(get_delta_loss_column(MODEL_NULL, model_name))\n",
    "    matrix_analyzer.build_matrix([\"pre_celltype_merged\", \"pre_id_mapped\"], \n",
    "                                [\"post_celltype_merged\", \"post_id_mapped\"],    \n",
    "                                row_domains = neuron_domain_pre,  \n",
    "                                col_domains = neuron_domain_post,\n",
    "                                value_label_map = {\n",
    "                                    \"pre_celltype_merged\" : VIS.CELLTYPE_LABELS,\n",
    "                                    \"post_celltype_merged\" : VIS.CELLTYPE_LABELS,\n",
    "                                },\n",
    "                                aggregation_fn=\"sum\",\n",
    "                                default_value=np.nan)\n",
    "    matrix_analyzer.colormaps[\"viridis\"].set_bad(\"white\")\n",
    "    img = matrix_analyzer.render_matrix(f\"VIS-cellular-loss-{model_name}\", \n",
    "                                colormap_name=\"viridis\", vmin=vmin, vmax=vmax, \n",
    "                                row_markers=row_markers, col_markers=col_markers,\n",
    "                                col_separator_lines=True, row_separator_lines=True, high_res=True)\n",
    "    display(img)"
   ]
  },
  {
   "cell_type": "markdown",
   "metadata": {},
   "source": [
    "#### Delta loss matrix"
   ]
  },
  {
   "cell_type": "code",
   "execution_count": null,
   "metadata": {},
   "outputs": [],
   "source": [
    "selected_models = [MODEL_NULL, MODEL_P, MODEL_P_disaggregated, MODEL_Pa, MODEL_PS, MODEL_PS_disaggregated, MODEL_PSa, MODEL_PSCa, MODEL_PSCb]\n",
    "df_pairwise = get_df_cellular(df_filtered, selected_models, separate_compartment=False, \n",
    "    pre_celltype_column=\"pre_celltype_merged\", post_celltype_column=\"post_celltype_merged\")\n",
    "\n",
    "reference_model = MODEL_NULL\n",
    "for target_model in selected_models:\n",
    "    if(target_model == reference_model):\n",
    "        continue\n",
    "    compute_delta_loss(df_pairwise, reference_model, target_model)\n",
    "    compute_delta_syncount(df_pairwise, reference_model, target_model)\n",
    "\n",
    "for target_model in selected_models:\n",
    "    compute_delta_syncount(df_pairwise, EMPIRICAL, target_model)"
   ]
  },
  {
   "cell_type": "code",
   "execution_count": null,
   "metadata": {},
   "outputs": [],
   "source": [
    "model_loss_cols = [col for col in df_pairwise.columns if (\"loss_model\" in col) and (\"delta\" not in col)]\n",
    "model_loss_cols"
   ]
  },
  {
   "cell_type": "markdown",
   "metadata": {},
   "source": [
    "### Change in loss depending on model"
   ]
  },
  {
   "cell_type": "code",
   "execution_count": null,
   "metadata": {},
   "outputs": [],
   "source": [
    "def get_aggregate_loss_for_plot(df, loss_columns):\n",
    "    loss_median, loss_25, loss_75, labels = [], [], [], []\n",
    "    for col in loss_columns:\n",
    "        values = df[col].values\n",
    "        loss_median.append(np.median(values))\n",
    "        loss_25.append(np.quantile(values, 0.25))\n",
    "        loss_75.append(np.quantile(values, 0.75))\n",
    "        labels.append(get_formatted_model_name(col.replace(\"loss_\",\"\")).replace(\"Pd\",\"P\").replace(\"PSd\",\"PS\"))\n",
    "    return loss_median, loss_25, loss_75, labels"
   ]
  },
  {
   "cell_type": "code",
   "execution_count": null,
   "metadata": {},
   "outputs": [],
   "source": [
    "initPlotSettings(False)\n",
    "\n",
    "model_cols_plot = ['loss_model-null',\n",
    "    'loss_model-P_disaggregated',       \n",
    "    'loss_model-PS_disaggregated',\n",
    "    #'loss_model-PSCa',\n",
    "    'loss_model-PSCb'\n",
    "]\n",
    "\n",
    "pre_exc_mask = df_pairwise.index.get_level_values(\"pre_celltype_merged\") == VIS.EXC_INH[0]\n",
    "pre_inh_mask = df_pairwise.index.get_level_values(\"pre_celltype_merged\") == VIS.EXC_INH[1]\n",
    "post_exc_mask = df_pairwise.index.get_level_values(\"post_celltype_merged\") == VIS.EXC_INH[0]\n",
    "post_inh_mask = df_pairwise.index.get_level_values(\"post_celltype_merged\") == VIS.EXC_INH[1]\n",
    "\n",
    "exc_exc_mask = pre_exc_mask & post_exc_mask\n",
    "exc_inh_mask = pre_exc_mask & post_inh_mask\n",
    "\n",
    "inh_exc_mask = pre_inh_mask & post_exc_mask\n",
    "inh_inh_mask = pre_inh_mask & post_inh_mask\n",
    "\n",
    "pre_all = pre_exc_mask | pre_inh_mask\n",
    "\n",
    "fig, ax = plt.subplots(figsize=figsize_mm_to_inch(60,40))\n",
    "\n",
    "def add_to_plot(df, color, label, linestyle = \"-\", marker=\".\"):\n",
    "    loss_median, loss_25, loss_75, model_names = get_aggregate_loss_for_plot(df, model_cols_plot)\n",
    "    print(loss_median)\n",
    "    x = np.arange(len(model_names))\n",
    "    ax.plot(x, loss_median, linestyle=linestyle, marker=marker, c = color, label=label, lw=1)\n",
    "    return model_names\n",
    "\n",
    "#model_names = add_to_plot(df_pairwise, \"lightgrey\", \"all neuron pairs\")\n",
    "\n",
    "model_names = add_to_plot(df_pairwise[pre_inh_mask], \"grey\", \"presyn. neuron is inhibitory\", \"-\", \"o\")\n",
    "model_names = add_to_plot(df_pairwise[pre_exc_mask], \"black\", \"presyn. neuron is excitatory\", \"--\", \"^\")\n",
    "\n",
    "#model_names = add_to_plot(df_pairwise[exc_exc_mask], \"red\", \"EE\", \"-\",\"^\")\n",
    "#model_names = add_to_plot(df_pairwise[exc_inh_mask], \"blue\", \"EI\", \"--\",\"^\")\n",
    "\n",
    "#model_names = add_to_plot(df_pairwise[exc_exc_mask], \"red\", \"IE\", \"-\",\"o\")\n",
    "#model_names = add_to_plot(df_pairwise[exc_inh_mask], \"blue\", \"II\", \"--\",\"o\")\n",
    "\n",
    "\n",
    "#plt.fill_between(x, loss_25, loss_75, color='grey', alpha=0.3, label='25th-75th Percentile')\n",
    "\n",
    "plt.legend()\n",
    "x = np.arange(len(model_names))\n",
    "plt.xticks(x, model_names)\n",
    "plt.xlim((-0.2, len(model_names) - 0.8))\n",
    "plt.ylim(-0.01, 0.13)\n",
    "#plt.xlabel(\"model\")\n",
    "plt.ylabel(\"model accuracy \\n (loss function)\")\n",
    "plt.subplots_adjust(left = 0.3, bottom=0.25, top=0.9)\n",
    "\n",
    "img = savefig_png_svg(fig, plot_folder/\"loss_model_comparison\")\n",
    "display(img)\n"
   ]
  }
 ],
 "metadata": {
  "kernelspec": {
   "display_name": "wiring-specificity",
   "language": "python",
   "name": "python3"
  },
  "language_info": {
   "codemirror_mode": {
    "name": "ipython",
    "version": 3
   },
   "file_extension": ".py",
   "mimetype": "text/x-python",
   "name": "python",
   "nbconvert_exporter": "python",
   "pygments_lexer": "ipython3",
   "version": "3.11.9"
  }
 },
 "nbformat": 4,
 "nbformat_minor": 2
}
