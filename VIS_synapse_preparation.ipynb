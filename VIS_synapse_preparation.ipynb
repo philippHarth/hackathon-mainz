{
 "cells": [
  {
   "cell_type": "code",
   "execution_count": null,
   "metadata": {},
   "outputs": [],
   "source": [
    "import cudf\n",
    "import pandas as pd\n",
    "import numpy as np\n",
    "from pathlib import Path"
   ]
  },
  {
   "cell_type": "code",
   "execution_count": null,
   "metadata": {},
   "outputs": [],
   "source": [
    "data_folder = Path.cwd() / \"data\" / \"VIS\"\n",
    "plot_folder = data_folder / \"visualization\"\n",
    "plot_folder.mkdir(parents=True, exist_ok=True)\n",
    "\n",
    "synapses_file = data_folder / \"synapses_flat.csv\"\n",
    "soma_file = data_folder / \"meta\" / \"soma.csv\"\n",
    "\n",
    "grid_size =  200000 \n",
    "grid_size_descriptor = f\"grid-{grid_size}\"\n",
    "\n",
    "selected_pre_ids = [2, 5, 25, 26, 30, 37, 38, 54, 82, 173, 210, 282, 298, 327, 337, 338, 353, 421]"
   ]
  },
  {
   "cell_type": "code",
   "execution_count": null,
   "metadata": {},
   "outputs": [],
   "source": [
    "synapses_df = cudf.read_csv(synapses_file, dtype={\n",
    "    \"x\": \"uint32\", \n",
    "    \"y\": \"uint32\", \n",
    "    \"z\": \"uint32\",     \n",
    "    \"pre_id\": \"uint64\", \n",
    "    \"post_id\": \"uint64\", \n",
    "    \"pre_celltype\": \"int8\", \n",
    "    \"post_celltype\": \"int8\", \n",
    "    \"post_compartment\": \"int8\"\n",
    "})\n",
    "\n",
    "synapses_df.shape"
   ]
  },
  {
   "cell_type": "code",
   "execution_count": null,
   "metadata": {},
   "outputs": [],
   "source": [
    "soma_df = pd.read_csv(soma_file, dtype={\n",
    "    \"neuron_id\" : \"uint64\",\n",
    "    \"neuron_id_mapped\" : \"int16\", \n",
    "}, usecols=[\"neuron_id\", \"neuron_id_mapped\"])\n",
    "\n",
    "mapping_dict = {np.uint64(row.neuron_id): np.int16(row.neuron_id_mapped - 1000) for row in soma_df.itertuples(index=False)}"
   ]
  },
  {
   "cell_type": "code",
   "execution_count": null,
   "metadata": {},
   "outputs": [],
   "source": [
    "soma_df"
   ]
  },
  {
   "cell_type": "code",
   "execution_count": null,
   "metadata": {},
   "outputs": [],
   "source": [
    "synapses_df.groupby([\"pre_celltype\", \"post_celltype\"]).size()"
   ]
  },
  {
   "cell_type": "code",
   "execution_count": null,
   "metadata": {},
   "outputs": [],
   "source": [
    "synapses_df[\"pre_id_mapped\"] = cudf.Series(-1 * np.ones(len(synapses_df)), dtype='int16')\n",
    "synapses_df[\"post_id_mapped\"] = cudf.Series(-1 * np.ones(len(synapses_df)), dtype='int16')\n",
    "synapses_df[\"overlap_volume\"] = cudf.Series(np.zeros(len(synapses_df)), dtype='uint64')"
   ]
  },
  {
   "cell_type": "code",
   "execution_count": null,
   "metadata": {},
   "outputs": [],
   "source": [
    "from lib.gridder import Gridder\n",
    "\n",
    "gridder = Gridder(data_folder/\"grid\")\n",
    "\n",
    "xyz = synapses_df[[\"x\", \"y\", \"z\"]].to_numpy()\n",
    "\n",
    "gridder.setPositions(xyz)\n",
    "indices, df_grid_meta = gridder.computeGrid(grid_size)\n",
    "synapses_df[\"overlap_volume\"] = indices.astype(\"uint64\")"
   ]
  },
  {
   "cell_type": "code",
   "execution_count": null,
   "metadata": {},
   "outputs": [],
   "source": [
    "df_grid_meta.to_csv(data_folder/f\"{grid_size_descriptor}_meta.csv\", index=False)"
   ]
  },
  {
   "cell_type": "code",
   "execution_count": null,
   "metadata": {},
   "outputs": [],
   "source": [
    "synapses_df.sample(frac=0.10).to_csv(plot_folder/f\"synapses_{grid_size_descriptor}_10pct.csv\", index=False)"
   ]
  },
  {
   "cell_type": "code",
   "execution_count": null,
   "metadata": {},
   "outputs": [],
   "source": [
    "for neuron_id, mapped_id in mapping_dict.items():\n",
    "    synapses_df.loc[synapses_df.pre_id == neuron_id, \"pre_id_mapped\"] = mapped_id\n",
    "    synapses_df.loc[synapses_df.post_id == neuron_id, \"post_id_mapped\"] = mapped_id"
   ]
  },
  {
   "cell_type": "code",
   "execution_count": null,
   "metadata": {},
   "outputs": [],
   "source": [
    "synapses_mapped_neurons = synapses_df[(synapses_df.pre_id_mapped > -1) | (synapses_df.post_id_mapped > -1)]\n",
    "synapses_mapped_neurons.to_csv(plot_folder/f\"synapses_{grid_size_descriptor}_mapped-neurons.csv\", index=False)\n",
    "synapses_mapped_neurons"
   ]
  },
  {
   "cell_type": "code",
   "execution_count": null,
   "metadata": {},
   "outputs": [],
   "source": [
    "synapses_btw_mapped_neurons = synapses_df[(synapses_df.pre_id_mapped > -1) & (synapses_df.post_id_mapped > -1)]\n",
    "synapses_btw_mapped_neurons.to_csv(plot_folder/f\"synapses_{grid_size_descriptor}_between-mapped-neurons.csv\", index=False)\n",
    "synapses_btw_mapped_neurons"
   ]
  },
  {
   "cell_type": "code",
   "execution_count": null,
   "metadata": {},
   "outputs": [],
   "source": [
    "selected_overlap_volumes = synapses_mapped_neurons.overlap_volume.unique()\n",
    "selected_overlap_volumes.size"
   ]
  },
  {
   "cell_type": "code",
   "execution_count": null,
   "metadata": {},
   "outputs": [],
   "source": [
    "range_filter_enabled = False\n",
    "\n",
    "if(range_filter_enabled):\n",
    "    \n",
    "    offset = 5000\n",
    "\n",
    "    x_min = synapses_mapped_neurons.x.min() - offset\n",
    "    y_min = synapses_mapped_neurons.y.min() - offset\n",
    "    #z_min = synapses_mapped_neurons.z.min() - offset\n",
    "\n",
    "    x_max = synapses_mapped_neurons.x.max() + offset\n",
    "    y_max = synapses_mapped_neurons.y.max() + offset\n",
    "    #z_max = synapses_mapped_neurons.z.max() + offset\n",
    "\n",
    "    df_synapses_range = synapses_df[\n",
    "        #(synapses_df.x >= x_min) & (synapses_df.x <= x_max) &\n",
    "        #(synapses_df.y >= y_min) & (synapses_df.y <= y_max) &\n",
    "        synapses_df.overlap_volume.isin(selected_overlap_volumes)\n",
    "        #(synapses_df.z >= z_min) & (synapses_df.z <= z_max) \n",
    "    ]\n",
    "\n",
    "    df_synapses_range.reset_index(drop=True)\n",
    "\n",
    "else:\n",
    "\n",
    "    df_synapses_range = synapses_df.copy()"
   ]
  },
  {
   "cell_type": "code",
   "execution_count": null,
   "metadata": {},
   "outputs": [],
   "source": [
    "df_synapses_range.to_pandas().to_csv(data_folder/f\"synapses_{grid_size_descriptor}_mapped-neurons-range.csv\", index=False)\n",
    "df_synapses_range.sample(frac=0.10).to_csv(plot_folder/f\"synapses_{grid_size_descriptor}_mapped-neurons-range_10pct.csv\", index=False)"
   ]
  },
  {
   "cell_type": "code",
   "execution_count": null,
   "metadata": {},
   "outputs": [],
   "source": [
    "df_synapses_range"
   ]
  },
  {
   "cell_type": "code",
   "execution_count": null,
   "metadata": {},
   "outputs": [],
   "source": [
    "df_synapses_aggregated = df_synapses_range.groupby([\"overlap_volume\", \n",
    "                                                    \"pre_id_mapped\", \n",
    "                                                    \"post_id_mapped\",\n",
    "                                                    \"pre_celltype\", \n",
    "                                                    \"post_celltype\",\n",
    "                                                    \"post_compartment\"]).size().reset_index(name=\"synapse_count\")\n",
    "\n",
    "df_synapses_aggregated.to_pandas().to_csv(data_folder/f\"synapses_{grid_size_descriptor}_aggregated.csv\", index=False)\n",
    "print(df_synapses_aggregated.synapse_count.sum())\n",
    "df_synapses_aggregated"
   ]
  }
 ],
 "metadata": {
  "kernelspec": {
   "display_name": "cudftest",
   "language": "python",
   "name": "python3"
  },
  "language_info": {
   "codemirror_mode": {
    "name": "ipython",
    "version": 3
   },
   "file_extension": ".py",
   "mimetype": "text/x-python",
   "name": "python",
   "nbconvert_exporter": "python",
   "pygments_lexer": "ipython3",
   "version": "3.11.9"
  },
  "orig_nbformat": 4
 },
 "nbformat": 4,
 "nbformat_minor": 2
}
