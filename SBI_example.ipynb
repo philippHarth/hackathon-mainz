{
 "cells": [
  {
   "cell_type": "code",
   "execution_count": null,
   "metadata": {},
   "outputs": [],
   "source": [
    "import pandas as pd\n",
    "import numpy as np\n",
    "import pickle\n",
    "from pathlib import Path\n",
    "\n",
    "from IPython.display import display\n",
    "from lib.util_plot import *\n",
    "from lib.constants import *\n",
    "\n",
    "import lib.VIS_L23_preprocessing.vis_L23_constants as VIS\n",
    "from lib.pandas_impl import *\n",
    "from lib.pandas_stats_impl import *\n",
    "from lib.pandas_stats_VIS import VISAggregateStatistics\n",
    "from lib.multilevel_analysis import MultilevelAnalysis\n",
    "from models import *\n",
    "\n",
    "from lib.parameter_inference import ParameterDomain, ParameterInference"
   ]
  },
  {
   "cell_type": "markdown",
   "metadata": {},
   "source": [
    "#### Prepare data"
   ]
  },
  {
   "cell_type": "code",
   "execution_count": null,
   "metadata": {},
   "outputs": [],
   "source": [
    "data_folder = Path.cwd() / 'data' / 'VIS'\n",
    "eval_folder = Path.cwd() / 'data' / 'eval' / 'VIS_SBI_example_24-12-17'\n",
    "eval_folder.mkdir(parents=True, exist_ok=True)\n",
    "plot_folder = eval_folder / \"plots\"\n",
    "plot_folder.mkdir(parents=True, exist_ok=True)\n",
    "synapse_file = data_folder / 'synapses_grid-25000_aggregated.csv'"
   ]
  },
  {
   "cell_type": "code",
   "execution_count": null,
   "metadata": {},
   "outputs": [],
   "source": [
    "def merge_inh_celltypes(df_summary):\n",
    "    df = df_summary.copy()\n",
    "\n",
    "    if(\"post_celltype_merged\" not in df.index.names):\n",
    "        post_celltype_merged = df.index.get_level_values(\"post_celltype\").values.copy()\n",
    "        post_celltype_merged[post_celltype_merged > 1] = 2 \n",
    "        df.loc[:, \"post_celltype_merged\"] = post_celltype_merged\n",
    "        df.set_index(\"post_celltype_merged\", append=True, inplace=True)\n",
    "\n",
    "    if(\"pre_celltype_merged\" not in df.index.names):\n",
    "        pre_celltype_merged = df.index.get_level_values(\"pre_celltype\").values.copy()\n",
    "        pre_celltype_merged[pre_celltype_merged > 1] = 2 \n",
    "        df.loc[:, \"pre_celltype_merged\"] = pre_celltype_merged\n",
    "        df.set_index(\"pre_celltype_merged\", append=True, inplace=True)\n",
    "\n",
    "    df.sort_index(inplace=True)\n",
    "    return df"
   ]
  },
  {
   "cell_type": "code",
   "execution_count": null,
   "metadata": {},
   "outputs": [],
   "source": [
    "df_synapses = pd.read_csv(synapse_file)\n",
    "\n",
    "# filter self connections\n",
    "df_synapses = df_synapses[(df_synapses.pre_id_mapped == -1) | (df_synapses.pre_id_mapped != df_synapses.post_id_mapped)]\n",
    "df_synapses.reset_index(drop=True, inplace=True)\n",
    "\n",
    "df_synapses_indexed = df_synapses.set_index([\"pre_celltype\", \"post_celltype\",  \\\n",
    "                                             \"pre_id_mapped\", \"post_id_mapped\", \"post_compartment\", \"overlap_volume\"])\n",
    "\n",
    "df_synapses_indexed = merge_inh_celltypes(df_synapses_indexed)\n",
    "\n",
    "df_synapses_indexed.sort_index(inplace=True)\n",
    "df_synapses_indexed.synapse_count.sum()"
   ]
  },
  {
   "cell_type": "code",
   "execution_count": null,
   "metadata": {},
   "outputs": [],
   "source": [
    "index_data = compile_index_data(eval_folder, df_synapses_indexed)"
   ]
  },
  {
   "cell_type": "markdown",
   "metadata": {},
   "source": [
    "#### Run default models"
   ]
  },
  {
   "cell_type": "code",
   "execution_count": null,
   "metadata": {},
   "outputs": [],
   "source": [
    "statistics = VISAggregateStatistics(index_data, compute_syncounts=True, compute_motifs=True, compute_clusters=True)\n",
    "multilevel_analysis = MultilevelAnalysis(index_data, df_synapses_indexed, statistics, num_realizations=100)\n",
    "multilevel_analysis.run_null_and_empirical()"
   ]
  },
  {
   "cell_type": "markdown",
   "metadata": {},
   "source": [
    "#### Model definition"
   ]
  },
  {
   "cell_type": "code",
   "execution_count": null,
   "metadata": {},
   "outputs": [],
   "source": [
    "class SimulationModel:\n",
    "    def __init__(self, name, index_data, groupby_fields, parameter_domain, sequential=False):\n",
    "        self.index_data = index_data\n",
    "        self.groupby_fields = groupby_fields\n",
    "        self.parameter_domain = parameter_domain\n",
    "        self.sequential = sequential\n",
    "        self.name = name\n",
    "        self.prior_descriptor = f\"{name}_prior\"\n",
    "        self.posterior_descriptor = f\"{name}_posterior\"\n",
    "    \n",
    "\n",
    "    def compute(self, df_summary, reference_model_descriptor, parameters, group_index_column_reference=None):\n",
    "        assert len(self.groupby_fields)\n",
    "\n",
    "        #values_empirical = df_summary[EMPIRICAL].values\n",
    "        values_reference_model = df_summary[reference_model_descriptor].values\n",
    "\n",
    "        if(self.sequential):\n",
    "            assert group_index_column_reference is not None\n",
    "            groupby_fields = self.groupby_fields + [group_index_column_reference]\n",
    "        else:\n",
    "            groupby_fields = self.groupby_fields\n",
    "        indices = df_summary.groupby(groupby_fields).indices\n",
    "         \n",
    "        specificity_values = np.ones(len(df_summary))\n",
    "        values_model = values_reference_model.copy()\n",
    "        group_indices_model = np.ones(len(df_summary)).astype(int)\n",
    "\n",
    "        # iterate over groupings\n",
    "        group_index = 0\n",
    "        for group_key, global_indices in indices.items():\n",
    "            group_indices_model[global_indices] = group_index\n",
    "            \n",
    "            if(group_key in self.parameter_domain.keys):\n",
    "                if(self.sequential):\n",
    "                    parameter_col_idx = self.parameter_domain.get_parameter_column_index(group_key[:-1])\n",
    "                else:\n",
    "                    parameter_col_idx = self.parameter_domain.get_parameter_column_index(group_key)\n",
    "                specificity_value = parameters[parameter_col_idx]\n",
    "            else:\n",
    "                specificity_value = 1    \n",
    "\n",
    "            expected_syncounts = specificity_value * values_reference_model[global_indices]\n",
    "            values_model[global_indices] = expected_syncounts\n",
    "            specificity_values[global_indices] = specificity_value\n",
    "\n",
    "            group_index += 1\n",
    "                \n",
    "        return values_model, specificity_values, group_indices_model"
   ]
  },
  {
   "cell_type": "markdown",
   "metadata": {},
   "source": [
    "#### Run model with sampled parameters"
   ]
  },
  {
   "cell_type": "code",
   "execution_count": null,
   "metadata": {},
   "outputs": [],
   "source": [
    "parameter_domain_P = ParameterDomain()\n",
    "parameter_domain_P.add_parameter((VIS.E, VIS.E), 0, 10, label=r\"$\\alpha_{EE}$\")\n",
    "parameter_domain_P.add_parameter((VIS.E, VIS.I), 0, 10, label=r\"$\\alpha_{EI}$\")\n",
    "parameter_domain_P.add_parameter((VIS.I, VIS.E), 0, 10, label=r\"$\\alpha_{IE}$\")\n",
    "parameter_domain_P.add_parameter((VIS.I, VIS.I), 0, 10, label=r\"$\\alpha_{II}$\")\n",
    "\n",
    "parameter_inference_P = ParameterInference(parameter_domain_P, num_posterior_samples=500, max_epochs=100)\n",
    "prior_parameters_P = parameter_inference_P.sample_parameters(500)"
   ]
  },
  {
   "cell_type": "code",
   "execution_count": null,
   "metadata": {},
   "outputs": [],
   "source": [
    "parameter_domain_PS = ParameterDomain()\n",
    "parameter_domain_PS.add_parameter((VIS.E, VIS.E, VIS.SOMA[0]), 0, 2, label=r\"$\\alpha_{EE_S}$\")\n",
    "parameter_domain_PS.add_parameter((VIS.E, VIS.E, VIS.DEND[0]), 0, 2, label=r\"$\\alpha_{EE_D}$\")\n",
    "parameter_domain_PS.add_parameter((VIS.E, VIS.E, VIS.AIS[0]), 0, 2, label=r\"$\\alpha_{EE_A}$\")\n",
    "parameter_domain_PS.add_parameter((VIS.E, VIS.I, VIS.SOMA[0]), 0, 2, label=r\"$\\alpha_{EI_S}$\")\n",
    "parameter_domain_PS.add_parameter((VIS.E, VIS.I, VIS.DEND[0]), 0, 2, label=r\"$\\alpha_{EI_D}$\")\n",
    "parameter_domain_PS.add_parameter((VIS.E, VIS.I, VIS.AIS[0]), 0, 2, label=r\"$\\alpha_{EI_A}$\")\n",
    "\n",
    "parameter_inference_PS = ParameterInference(parameter_domain_PS, num_posterior_samples=500, max_epochs=100)\n",
    "prior_parameters_PS = parameter_inference_PS.sample_parameters(2000)"
   ]
  },
  {
   "cell_type": "code",
   "execution_count": null,
   "metadata": {},
   "outputs": [],
   "source": [
    "model_P_impl = Model(index_data, [\"pre_celltype_merged\", \"post_celltype_merged\"])\n",
    "model_S_impl = Model(index_data, [\"post_compartment\"])\n",
    "\n",
    "model_P_sim_impl = SimulationModel(\"sim-P\", index_data, [\"pre_celltype_merged\", \"post_celltype_merged\"], parameter_domain_P, sequential=False)\n",
    "model_PS_sim_impl = SimulationModel(\"sim-PS\", index_data, [\"pre_celltype_merged\", \"post_celltype_merged\", \"post_compartment\"], parameter_domain_PS)"
   ]
  },
  {
   "cell_type": "code",
   "execution_count": null,
   "metadata": {},
   "outputs": [],
   "source": [
    "multilevel_analysis.run_model(\n",
    "    MODEL_NULL,\n",
    "    model_P_impl,\n",
    "    MODEL_P\n",
    ")"
   ]
  },
  {
   "cell_type": "code",
   "execution_count": null,
   "metadata": {},
   "outputs": [],
   "source": [
    "model_S_impl = Model(index_data, [\"post_compartment\"])\n",
    "\n",
    "multilevel_analysis.run_model(\n",
    "    MODEL_P,\n",
    "    model_S_impl,\n",
    "    MODEL_PS\n",
    ")"
   ]
  },
  {
   "cell_type": "code",
   "execution_count": null,
   "metadata": {},
   "outputs": [],
   "source": [
    "multilevel_analysis.run_model_with_parameters(\n",
    "    MODEL_NULL,\n",
    "    model_P_sim_impl,\n",
    "    model_P_sim_impl.prior_descriptor,\n",
    "    prior_parameters_P\n",
    ")"
   ]
  },
  {
   "cell_type": "code",
   "execution_count": null,
   "metadata": {},
   "outputs": [],
   "source": [
    "multilevel_analysis.run_model_with_parameters(\n",
    "    MODEL_P,\n",
    "    model_PS_sim_impl,\n",
    "    model_PS_sim_impl.prior_descriptor,\n",
    "    prior_parameters_PS\n",
    ")"
   ]
  },
  {
   "cell_type": "markdown",
   "metadata": {},
   "source": [
    "#### Infer posterior distribution"
   ]
  },
  {
   "cell_type": "code",
   "execution_count": null,
   "metadata": {},
   "outputs": [],
   "source": [
    "x_0 = multilevel_analysis.stats.to_numpy(SELECTION_CELLTYPE, EMPIRICAL)\n",
    "x_model = multilevel_analysis.stats.to_numpy(SELECTION_CELLTYPE, model_P_sim_impl.prior_descriptor)\n",
    "\n",
    "_ = parameter_inference_P.infer_parameters(x_model, x_0)\n",
    "\n",
    "posterior_parameters_P = parameter_inference_P.samples_posterior\n",
    "posterior_parameters_P.mean(axis = 0)"
   ]
  },
  {
   "cell_type": "code",
   "execution_count": null,
   "metadata": {},
   "outputs": [],
   "source": [
    "fig, _ = parameter_inference_P.plot_posterior(figsize=(10,10))\n",
    "image = savefig_png_svg(fig, plot_folder / \"posterior_parameters_P\")    \n",
    "# display(image)"
   ]
  },
  {
   "cell_type": "code",
   "execution_count": null,
   "metadata": {},
   "outputs": [],
   "source": [
    "x_0 = multilevel_analysis.stats.to_numpy(SELECTION_EXC_SUBCELLULAR, EMPIRICAL)\n",
    "x_model = multilevel_analysis.stats.to_numpy(SELECTION_EXC_SUBCELLULAR, model_PS_sim_impl.prior_descriptor)\n",
    "\n",
    "_ = parameter_inference_PS.infer_parameters(x_model, x_0)\n",
    "\n",
    "posterior_parameters_PS = parameter_inference_PS.samples_posterior\n",
    "posterior_parameters_PS.mean(axis = 0)"
   ]
  },
  {
   "cell_type": "code",
   "execution_count": null,
   "metadata": {},
   "outputs": [],
   "source": [
    "fig, _ = parameter_inference_PS.plot_posterior(figsize=(10,10))\n",
    "image = savefig_png_svg(fig, plot_folder / \"posterior_parameters_PS\")   \n",
    "display(image) "
   ]
  },
  {
   "cell_type": "markdown",
   "metadata": {},
   "source": [
    "#### Run model with posterior parameters"
   ]
  },
  {
   "cell_type": "code",
   "execution_count": null,
   "metadata": {},
   "outputs": [],
   "source": [
    "multilevel_analysis.run_model_with_parameters(\n",
    "    MODEL_NULL,\n",
    "    model_P_sim_impl,\n",
    "    model_P_sim_impl.posterior_descriptor,\n",
    "    posterior_parameters_P\n",
    ")"
   ]
  },
  {
   "cell_type": "code",
   "execution_count": null,
   "metadata": {},
   "outputs": [],
   "source": [
    "multilevel_analysis.run_model_with_parameters(\n",
    "    MODEL_P,\n",
    "    model_PS_sim_impl,\n",
    "    model_PS_sim_impl.posterior_descriptor,\n",
    "    posterior_parameters_PS\n",
    ")"
   ]
  },
  {
   "cell_type": "code",
   "execution_count": null,
   "metadata": {},
   "outputs": [],
   "source": [
    "filename = eval_folder / \"multilevel_analysis.pkl\"\n",
    "with open(filename, 'wb') as file:\n",
    "    pickle.dump(multilevel_analysis, file)\n",
    "\n",
    "\n",
    "np.savetxt(eval_folder / \"posterior_parameters_P\", posterior_parameters_P)\n",
    "np.savetxt(eval_folder / \"posterior_parameters_PS\", posterior_parameters_PS)"
   ]
  },
  {
   "cell_type": "markdown",
   "metadata": {},
   "source": [
    "#### Plot connectivity statistics"
   ]
  },
  {
   "cell_type": "code",
   "execution_count": null,
   "metadata": {},
   "outputs": [],
   "source": [
    "initPlotSettings(False)\n",
    "\n",
    "COLORS_CATEGORICAL_MUTED = sns.color_palette(\"muted\") \n",
    "COLORS_CATEGORICAL_DARK = sns.color_palette(\"dark\") \n",
    "COLORS_CATEGORICAL_COLORBLIND = sns.color_palette(\"colorblind\") \n",
    "COLORS_CATEGORICAL_BRIGHT = sns.color_palette(\"bright\") \n",
    "COLORS_CATEGORICAL_PASTEL = sns.color_palette(\"pastel\") \n",
    "\n",
    "C_EMPIRICAL = COLORS_CATEGORICAL[2]\n",
    "C_H0 = COLOR_EMPIRICAL\n",
    "C_M1 = COLORS_CATEGORICAL_MUTED[7]\n",
    "C_M2 = COLORS_CATEGORICAL_BRIGHT[7]\n",
    "C_M3 = COLORS_CATEGORICAL_PASTEL[7]"
   ]
  },
  {
   "cell_type": "code",
   "execution_count": null,
   "metadata": {},
   "outputs": [],
   "source": [
    "datasets = [multilevel_analysis.stats.to_numpy(SELECTION_CELLTYPE, EMPIRICAL),\n",
    "            multilevel_analysis.stats.to_numpy(SELECTION_CELLTYPE, MODEL_NULL),\n",
    "            multilevel_analysis.stats.to_numpy(SELECTION_CELLTYPE, model_P_sim_impl.posterior_descriptor)]\n",
    "\n",
    "img = plot_bar_chart(datasets,\n",
    "                     #dataset_labels = [STR_EMPIRICAL, STR_NULL, STR_P], \n",
    "                     colors=[C_EMPIRICAL, C_H0, C_M1],\n",
    "                     x_labels=SELECTION_CELLTYPE,\n",
    "                     y_lim=(1, 10**5), use_log=True, error_bars=True,\n",
    "                     adjust_left=0.2, fig_size=figsize_mm_to_inch(60,40), \n",
    "                     filename=plot_folder/f\"VIS_{SYNCOUNT_POPULATION}_INH_model_P.png\")\n",
    "display(img)"
   ]
  },
  {
   "cell_type": "code",
   "execution_count": null,
   "metadata": {},
   "outputs": [],
   "source": [
    "datasets = [multilevel_analysis.stats.to_numpy(SELECTION_EXC_SUBCELLULAR, EMPIRICAL),\n",
    "            multilevel_analysis.stats.to_numpy(SELECTION_EXC_SUBCELLULAR, MODEL_NULL),\n",
    "            multilevel_analysis.stats.to_numpy(SELECTION_EXC_SUBCELLULAR, model_PS_sim_impl.posterior_descriptor)]\n",
    "\n",
    "img = plot_bar_chart(datasets,\n",
    "                     #dataset_labels = [STR_EMPIRICAL, STR_NULL, STR_P], \n",
    "                     colors=[C_EMPIRICAL, C_H0, C_M1],\n",
    "                     x_labels=SELECTION_EXC_SUBCELLULAR,\n",
    "                     y_lim=(1, 10**5), use_log=True, error_bars=True,\n",
    "                     adjust_left=0.2, fig_size=figsize_mm_to_inch(100,40), \n",
    "                     filename=plot_folder/f\"VIS_{SYNCOUNT_EXC_SUBCELLULAR}_model_PS.png\")\n",
    "display(img)"
   ]
  },
  {
   "cell_type": "code",
   "execution_count": null,
   "metadata": {},
   "outputs": [],
   "source": [
    "from lib.pandas_compute import *\n",
    "\n",
    "selected_models = [MODEL_NULL, model_P_sim_impl.posterior_descriptor]\n",
    "df_cellular_pairwise = get_df_cellular(multilevel_analysis.df_summary, selected_models, excluded_neuron_ids=[-1], separate_compartment=False, pre_celltype_column=\"pre_celltype_merged\", post_celltype_column=\"post_celltype_merged\")\n",
    "compute_delta_loss(df_cellular_pairwise, MODEL_NULL, model_P_sim_impl.posterior_descriptor)"
   ]
  },
  {
   "cell_type": "code",
   "execution_count": null,
   "metadata": {},
   "outputs": [],
   "source": [
    "dataset_labels = [STR_EMPIRICAL, STR_NULL, STR_P]\n",
    "\n",
    "SELECTION_CLUSTER_15 = SELECTION_CLUSTER[0:15]\n",
    "\n",
    "datasets = [multilevel_analysis.stats.to_numpy(SELECTION_CLUSTER_15, EMPIRICAL), \n",
    "            multilevel_analysis.stats.to_numpy(SELECTION_CLUSTER_15, MODEL_NULL),\n",
    "            multilevel_analysis.stats.to_numpy(SELECTION_CLUSTER_15, model_P_sim_impl.posterior_descriptor)]\n",
    "\n",
    "labels = [l.split(\"-\")[1] for l in SELECTION_CLUSTER_15]\n",
    "        \n",
    "filename = plot_folder/f\"VIS_{SYNCLUSTERS}_model_specificity.png\"\n",
    "img = plot_line_chart(datasets, x_labels=labels, linestyles=[\".-\",\".-\",\".-\"],\n",
    "                      colors=[C_EMPIRICAL, C_H0, C_M1], y_lim=(-0.1, 0.5 * 10**6), capsize=2, linewidth=0.8, marker_size=4,       \n",
    "    dataset_labels=dataset_labels, error_bars=True, use_log=True, hline_y=None,  adjust_left=0.18, adjust_bottom=0.15, fig_size=figsize_mm_to_inch(60,80), filename=filename)\n",
    "display(img)"
   ]
  },
  {
   "cell_type": "code",
   "execution_count": null,
   "metadata": {},
   "outputs": [],
   "source": [
    "dataset_labels = [STR_EMPIRICAL, STR_NULL, STR_P]\n",
    "\n",
    "datasets = [multilevel_analysis.stats.to_numpy(SELECTION_MOTIF, EMPIRICAL), \n",
    "            multilevel_analysis.stats.to_numpy(SELECTION_MOTIF, MODEL_NULL),\n",
    "            multilevel_analysis.stats.to_numpy(SELECTION_MOTIF, model_P_sim_impl.posterior_descriptor)]\n",
    "\n",
    "filename = plot_folder/f\"VIS_{MOTIFS}.png\"\n",
    "img = plot_motifs_bar_chart(datasets, \n",
    "    colors = [C_EMPIRICAL, C_H0, C_M1],\n",
    "    dataset_labels=dataset_labels, quantile_low=25, quantile_high=75,\n",
    "    use_mean=False, marker_size=4, capsize=0, y_axis_label=\"occurrences relative to random\",\n",
    "    error_bars=True, y_lim=(-0.5,10**6), use_log=True, fig_size=figsize_mm_to_inch(160,50), adjust_left=0.07, filename=filename)\n",
    "display(img)"
   ]
  }
 ],
 "metadata": {
  "kernelspec": {
   "display_name": "connectomedf3",
   "language": "python",
   "name": "i"
  },
  "language_info": {
   "codemirror_mode": {
    "name": "ipython",
    "version": 3
   },
   "file_extension": ".py",
   "mimetype": "text/x-python",
   "name": "python",
   "nbconvert_exporter": "python",
   "pygments_lexer": "ipython3",
   "version": "3.11.11"
  }
 },
 "nbformat": 4,
 "nbformat_minor": 2
}
